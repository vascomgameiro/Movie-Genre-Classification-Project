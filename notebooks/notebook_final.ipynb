{
 "cells": [
  {
   "cell_type": "markdown",
   "metadata": {},
   "source": [
    "# Configurate Session\n"
   ]
  },
  {
   "cell_type": "code",
   "execution_count": 1,
   "metadata": {},
   "outputs": [
    {
     "name": "stdout",
     "output_type": "stream",
     "text": [
      "Current working directory: C:\\Users\\vasco\\repos\\Natural-Language\n"
     ]
    }
   ],
   "source": [
    "%load_ext autoreload\n",
    "\n",
    "import os\n",
    "import sys\n",
    "\n",
    "project_root = \"C:/Users/vasco/repos/Natural-Language\"\n",
    "if project_root not in sys.path:\n",
    "    sys.path.append(project_root)\n",
    "os.chdir(project_root)\n",
    "\n",
    "print(\"Current working directory:\", os.getcwd())"
   ]
  },
  {
   "cell_type": "markdown",
   "metadata": {},
   "source": [
    "# Load Data\n"
   ]
  },
  {
   "cell_type": "code",
   "execution_count": 2,
   "metadata": {},
   "outputs": [
    {
     "data": {
      "text/html": [
       "<div>\n",
       "<style scoped>\n",
       "    .dataframe tbody tr th:only-of-type {\n",
       "        vertical-align: middle;\n",
       "    }\n",
       "\n",
       "    .dataframe tbody tr th {\n",
       "        vertical-align: top;\n",
       "    }\n",
       "\n",
       "    .dataframe thead th {\n",
       "        text-align: right;\n",
       "    }\n",
       "</style>\n",
       "<table border=\"1\" class=\"dataframe\">\n",
       "  <thead>\n",
       "    <tr style=\"text-align: right;\">\n",
       "      <th></th>\n",
       "      <th>title</th>\n",
       "      <th>from</th>\n",
       "      <th>genre</th>\n",
       "      <th>director</th>\n",
       "      <th>description</th>\n",
       "    </tr>\n",
       "  </thead>\n",
       "  <tbody>\n",
       "    <tr>\n",
       "      <th>0</th>\n",
       "      <td>Ela Cheppanu</td>\n",
       "      <td>Telugu</td>\n",
       "      <td>romance</td>\n",
       "      <td>Ramana</td>\n",
       "      <td>Sekhar (Tarun) is a graduate from IIM and work...</td>\n",
       "    </tr>\n",
       "    <tr>\n",
       "      <th>1</th>\n",
       "      <td>A Nightmare on Elm Street</td>\n",
       "      <td>American</td>\n",
       "      <td>horror</td>\n",
       "      <td>Samuel Bayer</td>\n",
       "      <td>Kris Fowles (Katie Cassidy) goes to the Spring...</td>\n",
       "    </tr>\n",
       "    <tr>\n",
       "      <th>2</th>\n",
       "      <td>American Gothic</td>\n",
       "      <td>American</td>\n",
       "      <td>horror</td>\n",
       "      <td>John Hough</td>\n",
       "      <td>Cynthia is traumatized by the death of her bab...</td>\n",
       "    </tr>\n",
       "  </tbody>\n",
       "</table>\n",
       "</div>"
      ],
      "text/plain": [
       "                       title      from    genre      director  \\\n",
       "0               Ela Cheppanu    Telugu  romance        Ramana   \n",
       "1  A Nightmare on Elm Street  American   horror  Samuel Bayer   \n",
       "2            American Gothic  American   horror    John Hough   \n",
       "\n",
       "                                         description  \n",
       "0  Sekhar (Tarun) is a graduate from IIM and work...  \n",
       "1  Kris Fowles (Katie Cassidy) goes to the Spring...  \n",
       "2  Cynthia is traumatized by the death of her bab...  "
      ]
     },
     "execution_count": 2,
     "metadata": {},
     "output_type": "execute_result"
    }
   ],
   "source": [
    "%autoreload 2\n",
    "from src.dataset import read_data\n",
    "\n",
    "path = \"data/raw/train.txt\"\n",
    "columns = [\"title\", \"from\", \"genre\", \"director\", \"description\"]\n",
    "\n",
    "df = read_data(path, columns)\n",
    "df.head(3)"
   ]
  },
  {
   "cell_type": "markdown",
   "metadata": {},
   "source": [
    "# EDA\n"
   ]
  },
  {
   "cell_type": "markdown",
   "metadata": {},
   "source": [
    "### First Impressions\n"
   ]
  },
  {
   "cell_type": "code",
   "execution_count": 31,
   "metadata": {},
   "outputs": [
    {
     "name": "stdout",
     "output_type": "stream",
     "text": [
      "<class 'pandas.core.frame.DataFrame'>\n",
      "RangeIndex: 8023 entries, 0 to 8022\n",
      "Data columns (total 5 columns):\n",
      " #   Column       Non-Null Count  Dtype \n",
      "---  ------       --------------  ----- \n",
      " 0   title        8023 non-null   object\n",
      " 1   from         8023 non-null   object\n",
      " 2   genre        8023 non-null   object\n",
      " 3   director     8023 non-null   object\n",
      " 4   description  8023 non-null   object\n",
      "dtypes: object(5)\n",
      "memory usage: 313.5+ KB\n",
      "None\n",
      "********************\n",
      "title\n",
      "Dracula               4\n",
      "Underworld            3\n",
      "The Crimson Circle    3\n",
      "Romance               3\n",
      "I Love You            3\n",
      "Name: count, dtype: int64\n",
      "********************\n",
      "director\n",
      "Unknown            178\n",
      "Hanna-Barbera       46\n",
      "Lesley Selander     32\n",
      "Maurice Elvey       27\n",
      "Terence Fisher      23\n",
      "Name: count, dtype: int64\n",
      "********************\n",
      "from\n",
      "American     4039\n",
      "British      1409\n",
      "Bollywood     632\n",
      "Telugu        276\n",
      "Tamil         261\n",
      "Name: count, dtype: int64\n",
      "********************\n",
      "genre\n",
      "drama        1671\n",
      "comedy       1192\n",
      "horror       1102\n",
      "action       1058\n",
      "romance       886\n",
      "western       826\n",
      "crime         541\n",
      "animation     535\n",
      "sci-fi        212\n",
      "Name: count, dtype: int64\n",
      "********************\n",
      "Number of duplicates: 0\n"
     ]
    }
   ],
   "source": [
    "%autoreload 2\n",
    "print(df.info())\n",
    "print(\"*\" * 20)\n",
    "repeated_titles = df[\"title\"].value_counts()[df[\"title\"].value_counts() > 1].head(5)\n",
    "print(repeated_titles)\n",
    "print(\"*\" * 20)\n",
    "popular_directors = df[\"director\"].value_counts().head(5)\n",
    "print(popular_directors)\n",
    "print(\"*\" * 20)\n",
    "print(df[\"from\"].value_counts().head(5))\n",
    "print(\"*\" * 20)\n",
    "print(df[\"genre\"].value_counts())\n",
    "print(\"*\" * 20)\n",
    "print(\"Number of duplicates:\", df.duplicated().sum())"
   ]
  },
  {
   "cell_type": "markdown",
   "metadata": {},
   "source": [
    "### Drop Duplicates\n"
   ]
  },
  {
   "cell_type": "code",
   "execution_count": 3,
   "metadata": {},
   "outputs": [
    {
     "data": {
      "text/html": [
       "<div>\n",
       "<style scoped>\n",
       "    .dataframe tbody tr th:only-of-type {\n",
       "        vertical-align: middle;\n",
       "    }\n",
       "\n",
       "    .dataframe tbody tr th {\n",
       "        vertical-align: top;\n",
       "    }\n",
       "\n",
       "    .dataframe thead th {\n",
       "        text-align: right;\n",
       "    }\n",
       "</style>\n",
       "<table border=\"1\" class=\"dataframe\">\n",
       "  <thead>\n",
       "    <tr style=\"text-align: right;\">\n",
       "      <th></th>\n",
       "      <th>title</th>\n",
       "      <th>from</th>\n",
       "      <th>genre</th>\n",
       "      <th>director</th>\n",
       "      <th>description</th>\n",
       "    </tr>\n",
       "  </thead>\n",
       "  <tbody>\n",
       "    <tr>\n",
       "      <th>7102</th>\n",
       "      <td>At Gunpoint</td>\n",
       "      <td>American</td>\n",
       "      <td>western</td>\n",
       "      <td>Alfred L. Werker</td>\n",
       "      <td>Plainview is a peaceful town, all the better f...</td>\n",
       "    </tr>\n",
       "    <tr>\n",
       "      <th>4053</th>\n",
       "      <td>At Gunpoint</td>\n",
       "      <td>American</td>\n",
       "      <td>western</td>\n",
       "      <td>Alfred L. Werker</td>\n",
       "      <td>Plainview is a peaceful town, all the better f...</td>\n",
       "    </tr>\n",
       "    <tr>\n",
       "      <th>3121</th>\n",
       "      <td>Black Rock</td>\n",
       "      <td>American</td>\n",
       "      <td>horror</td>\n",
       "      <td>Katie Aselton</td>\n",
       "      <td>Sarah (Kate Bosworth) invites her childhood fr...</td>\n",
       "    </tr>\n",
       "    <tr>\n",
       "      <th>4714</th>\n",
       "      <td>Black Rock</td>\n",
       "      <td>American</td>\n",
       "      <td>horror</td>\n",
       "      <td>Katie Aselton</td>\n",
       "      <td>Sarah (Kate Bosworth) invites her childhood fr...</td>\n",
       "    </tr>\n",
       "    <tr>\n",
       "      <th>6456</th>\n",
       "      <td>Captain America</td>\n",
       "      <td>American</td>\n",
       "      <td>action</td>\n",
       "      <td>Albert Pyun</td>\n",
       "      <td>In Fascist Italy in 1936, the government kidna...</td>\n",
       "    </tr>\n",
       "    <tr>\n",
       "      <th>6285</th>\n",
       "      <td>Captain America</td>\n",
       "      <td>American</td>\n",
       "      <td>action</td>\n",
       "      <td>Albert Pyun</td>\n",
       "      <td>In Fascist Italy in 1936, the government kidna...</td>\n",
       "    </tr>\n",
       "  </tbody>\n",
       "</table>\n",
       "</div>"
      ],
      "text/plain": [
       "                title      from    genre          director  \\\n",
       "7102      At Gunpoint  American  western  Alfred L. Werker   \n",
       "4053      At Gunpoint  American  western  Alfred L. Werker   \n",
       "3121       Black Rock  American   horror     Katie Aselton   \n",
       "4714       Black Rock  American   horror     Katie Aselton   \n",
       "6456  Captain America  American   action       Albert Pyun   \n",
       "6285  Captain America  American   action       Albert Pyun   \n",
       "\n",
       "                                            description  \n",
       "7102  Plainview is a peaceful town, all the better f...  \n",
       "4053  Plainview is a peaceful town, all the better f...  \n",
       "3121  Sarah (Kate Bosworth) invites her childhood fr...  \n",
       "4714  Sarah (Kate Bosworth) invites her childhood fr...  \n",
       "6456  In Fascist Italy in 1936, the government kidna...  \n",
       "6285  In Fascist Italy in 1936, the government kidna...  "
      ]
     },
     "execution_count": 3,
     "metadata": {},
     "output_type": "execute_result"
    }
   ],
   "source": [
    "df[df.duplicated(keep=False)].sort_values(\"title\").head(6)"
   ]
  },
  {
   "cell_type": "code",
   "execution_count": 4,
   "metadata": {},
   "outputs": [],
   "source": [
    "df.drop_duplicates(inplace=True)\n",
    "df.reset_index(drop=True, inplace=True)"
   ]
  },
  {
   "cell_type": "markdown",
   "metadata": {},
   "source": [
    "### Plots\n"
   ]
  },
  {
   "cell_type": "code",
   "execution_count": 6,
   "metadata": {},
   "outputs": [],
   "source": [
    "%autoreload 2\n",
    "\n",
    "from src.plots import (\n",
    "    plot_movie_data,\n",
    "    plot_stopword_frequency,\n",
    "    get_text_statistics,\n",
    "    plot_histograms,\n",
    "    plot_boxplots,\n",
    "    plot_pca_tfidf,\n",
    "    plot_correlation_matrix,\n",
    "    plot_pca,\n",
    ")"
   ]
  },
  {
   "cell_type": "code",
   "execution_count": null,
   "metadata": {},
   "outputs": [],
   "source": [
    "plot_movie_data(df)"
   ]
  },
  {
   "cell_type": "code",
   "execution_count": null,
   "metadata": {},
   "outputs": [],
   "source": [
    "plot_stopword_frequency(df, \"description\")"
   ]
  },
  {
   "cell_type": "code",
   "execution_count": null,
   "metadata": {},
   "outputs": [],
   "source": [
    "plot_stopword_frequency(df, \"title\")"
   ]
  },
  {
   "cell_type": "code",
   "execution_count": 10,
   "metadata": {},
   "outputs": [],
   "source": [
    "stats = get_text_statistics(df, \"description\")"
   ]
  },
  {
   "cell_type": "code",
   "execution_count": null,
   "metadata": {},
   "outputs": [],
   "source": [
    "plot_histograms(stats)"
   ]
  },
  {
   "cell_type": "code",
   "execution_count": null,
   "metadata": {},
   "outputs": [],
   "source": [
    "plot_boxplots(stats)"
   ]
  },
  {
   "cell_type": "code",
   "execution_count": null,
   "metadata": {},
   "outputs": [],
   "source": [
    "pca_description_df, pca_description = plot_pca_tfidf(df, \"description\", \"genre\")"
   ]
  },
  {
   "cell_type": "code",
   "execution_count": null,
   "metadata": {},
   "outputs": [],
   "source": [
    "pca_title_df, pca_title = plot_pca_tfidf(df, \"title\", \"genre\")"
   ]
  },
  {
   "cell_type": "code",
   "execution_count": null,
   "metadata": {},
   "outputs": [],
   "source": [
    "plot_correlation_matrix(stats)\n",
    "pca_stats_df, pca_stats = plot_pca(stats, df[\"genre\"])"
   ]
  },
  {
   "cell_type": "markdown",
   "metadata": {},
   "source": [
    "# Train-Test Split"
   ]
  },
  {
   "cell_type": "code",
   "execution_count": 5,
   "metadata": {},
   "outputs": [],
   "source": [
    "from sklearn.model_selection import train_test_split\n",
    "\n",
    "train_df, test_df = train_test_split(df, test_size=0.1, random_state=42, stratify=df[\"genre\"])"
   ]
  },
  {
   "cell_type": "code",
   "execution_count": 6,
   "metadata": {},
   "outputs": [],
   "source": [
    "train_df.reset_index(drop=True, inplace=True)\n",
    "test_df.reset_index(drop=True, inplace=True)"
   ]
  },
  {
   "cell_type": "markdown",
   "metadata": {},
   "source": [
    "# Generate Embeddings"
   ]
  },
  {
   "cell_type": "code",
   "execution_count": 7,
   "metadata": {},
   "outputs": [
    {
     "name": "stderr",
     "output_type": "stream",
     "text": [
      "c:\\Users\\vasco\\repos\\Natural-Language\\venv\\Lib\\site-packages\\sentence_transformers\\cross_encoder\\CrossEncoder.py:13: TqdmWarning: IProgress not found. Please update jupyter and ipywidgets. See https://ipywidgets.readthedocs.io/en/stable/user_install.html\n",
      "  from tqdm.autonotebook import tqdm, trange\n"
     ]
    },
    {
     "data": {
      "text/plain": [
       "7220"
      ]
     },
     "execution_count": 7,
     "metadata": {},
     "output_type": "execute_result"
    }
   ],
   "source": [
    "import pandas as pd\n",
    "from src.embedding import process_and_save_in_chunks\n",
    "from sentence_transformers import SentenceTransformer\n",
    "\n",
    "# Example of how embeddings were generated, in practice we ran the embedding.py file\n",
    "model = SentenceTransformer(\"avsolatorio/GIST-small-Embedding-v0\")\n",
    "output_path = \"data/processed/processed_embeddings_train.csv\"\n",
    "process_and_save_in_chunks(train_df, \"description\", model, chunk_size=300, output_path=output_path)"
   ]
  },
  {
   "cell_type": "code",
   "execution_count": 8,
   "metadata": {},
   "outputs": [
    {
     "data": {
      "text/html": [
       "<div>\n",
       "<style scoped>\n",
       "    .dataframe tbody tr th:only-of-type {\n",
       "        vertical-align: middle;\n",
       "    }\n",
       "\n",
       "    .dataframe tbody tr th {\n",
       "        vertical-align: top;\n",
       "    }\n",
       "\n",
       "    .dataframe thead th {\n",
       "        text-align: right;\n",
       "    }\n",
       "</style>\n",
       "<table border=\"1\" class=\"dataframe\">\n",
       "  <thead>\n",
       "    <tr style=\"text-align: right;\">\n",
       "      <th></th>\n",
       "      <th>genre</th>\n",
       "      <th>embedding_1</th>\n",
       "      <th>embedding_2</th>\n",
       "      <th>embedding_3</th>\n",
       "      <th>embedding_4</th>\n",
       "      <th>embedding_5</th>\n",
       "      <th>embedding_6</th>\n",
       "      <th>embedding_7</th>\n",
       "      <th>embedding_8</th>\n",
       "      <th>embedding_9</th>\n",
       "      <th>...</th>\n",
       "      <th>embedding_375</th>\n",
       "      <th>embedding_376</th>\n",
       "      <th>embedding_377</th>\n",
       "      <th>embedding_378</th>\n",
       "      <th>embedding_379</th>\n",
       "      <th>embedding_380</th>\n",
       "      <th>embedding_381</th>\n",
       "      <th>embedding_382</th>\n",
       "      <th>embedding_383</th>\n",
       "      <th>embedding_384</th>\n",
       "    </tr>\n",
       "  </thead>\n",
       "  <tbody>\n",
       "    <tr>\n",
       "      <th>0</th>\n",
       "      <td>comedy</td>\n",
       "      <td>-0.008617</td>\n",
       "      <td>0.022097</td>\n",
       "      <td>-0.004732</td>\n",
       "      <td>-0.028206</td>\n",
       "      <td>-0.002101</td>\n",
       "      <td>0.019100</td>\n",
       "      <td>0.066881</td>\n",
       "      <td>-0.003675</td>\n",
       "      <td>-0.001129</td>\n",
       "      <td>...</td>\n",
       "      <td>0.033189</td>\n",
       "      <td>-0.037922</td>\n",
       "      <td>-0.007553</td>\n",
       "      <td>-0.045302</td>\n",
       "      <td>0.010430</td>\n",
       "      <td>0.008653</td>\n",
       "      <td>-0.020419</td>\n",
       "      <td>0.035640</td>\n",
       "      <td>0.036762</td>\n",
       "      <td>0.029850</td>\n",
       "    </tr>\n",
       "    <tr>\n",
       "      <th>1</th>\n",
       "      <td>action</td>\n",
       "      <td>-0.051309</td>\n",
       "      <td>0.045128</td>\n",
       "      <td>-0.023196</td>\n",
       "      <td>-0.045813</td>\n",
       "      <td>0.009651</td>\n",
       "      <td>0.000577</td>\n",
       "      <td>0.094067</td>\n",
       "      <td>-0.025615</td>\n",
       "      <td>-0.005722</td>\n",
       "      <td>...</td>\n",
       "      <td>0.017055</td>\n",
       "      <td>-0.033458</td>\n",
       "      <td>0.003634</td>\n",
       "      <td>0.079151</td>\n",
       "      <td>0.056169</td>\n",
       "      <td>-0.033074</td>\n",
       "      <td>0.025772</td>\n",
       "      <td>-0.005815</td>\n",
       "      <td>0.014292</td>\n",
       "      <td>0.006896</td>\n",
       "    </tr>\n",
       "    <tr>\n",
       "      <th>2</th>\n",
       "      <td>animation</td>\n",
       "      <td>-0.066860</td>\n",
       "      <td>-0.019683</td>\n",
       "      <td>0.022432</td>\n",
       "      <td>-0.019122</td>\n",
       "      <td>0.016281</td>\n",
       "      <td>0.010957</td>\n",
       "      <td>0.092053</td>\n",
       "      <td>0.068600</td>\n",
       "      <td>-0.022483</td>\n",
       "      <td>...</td>\n",
       "      <td>0.052965</td>\n",
       "      <td>-0.045983</td>\n",
       "      <td>-0.014270</td>\n",
       "      <td>-0.018857</td>\n",
       "      <td>-0.028362</td>\n",
       "      <td>0.003386</td>\n",
       "      <td>-0.020476</td>\n",
       "      <td>0.035824</td>\n",
       "      <td>-0.012908</td>\n",
       "      <td>-0.001963</td>\n",
       "    </tr>\n",
       "  </tbody>\n",
       "</table>\n",
       "<p>3 rows × 385 columns</p>\n",
       "</div>"
      ],
      "text/plain": [
       "       genre  embedding_1  embedding_2  embedding_3  embedding_4  embedding_5  \\\n",
       "0     comedy    -0.008617     0.022097    -0.004732    -0.028206    -0.002101   \n",
       "1     action    -0.051309     0.045128    -0.023196    -0.045813     0.009651   \n",
       "2  animation    -0.066860    -0.019683     0.022432    -0.019122     0.016281   \n",
       "\n",
       "   embedding_6  embedding_7  embedding_8  embedding_9  ...  embedding_375  \\\n",
       "0     0.019100     0.066881    -0.003675    -0.001129  ...       0.033189   \n",
       "1     0.000577     0.094067    -0.025615    -0.005722  ...       0.017055   \n",
       "2     0.010957     0.092053     0.068600    -0.022483  ...       0.052965   \n",
       "\n",
       "   embedding_376  embedding_377  embedding_378  embedding_379  embedding_380  \\\n",
       "0      -0.037922      -0.007553      -0.045302       0.010430       0.008653   \n",
       "1      -0.033458       0.003634       0.079151       0.056169      -0.033074   \n",
       "2      -0.045983      -0.014270      -0.018857      -0.028362       0.003386   \n",
       "\n",
       "   embedding_381  embedding_382  embedding_383  embedding_384  \n",
       "0      -0.020419       0.035640       0.036762       0.029850  \n",
       "1       0.025772      -0.005815       0.014292       0.006896  \n",
       "2      -0.020476       0.035824      -0.012908      -0.001963  \n",
       "\n",
       "[3 rows x 385 columns]"
      ]
     },
     "execution_count": 8,
     "metadata": {},
     "output_type": "execute_result"
    }
   ],
   "source": [
    "embedding_train_path = \"data/processed/processed_embeddings_train.csv\"\n",
    "embedding_train_df = pd.read_csv(embedding_train_path)\n",
    "\n",
    "embedding_train_df = pd.concat([train_df[\"genre\"], embedding_train_df], axis=1)\n",
    "embedding_train_df.drop_duplicates(inplace=True)\n",
    "embedding_train_df.reset_index(drop=True, inplace=True)\n",
    "embedding_train_df.head(3)"
   ]
  },
  {
   "cell_type": "code",
   "execution_count": 10,
   "metadata": {},
   "outputs": [
    {
     "data": {
      "text/plain": [
       "803"
      ]
     },
     "execution_count": 10,
     "metadata": {},
     "output_type": "execute_result"
    }
   ],
   "source": [
    "output_path = \"data/processed/processed_embeddings_test.csv\"\n",
    "process_and_save_in_chunks(test_df, \"description\", model, chunk_size=300, output_path=output_path)"
   ]
  },
  {
   "cell_type": "code",
   "execution_count": 11,
   "metadata": {},
   "outputs": [
    {
     "data": {
      "text/html": [
       "<div>\n",
       "<style scoped>\n",
       "    .dataframe tbody tr th:only-of-type {\n",
       "        vertical-align: middle;\n",
       "    }\n",
       "\n",
       "    .dataframe tbody tr th {\n",
       "        vertical-align: top;\n",
       "    }\n",
       "\n",
       "    .dataframe thead th {\n",
       "        text-align: right;\n",
       "    }\n",
       "</style>\n",
       "<table border=\"1\" class=\"dataframe\">\n",
       "  <thead>\n",
       "    <tr style=\"text-align: right;\">\n",
       "      <th></th>\n",
       "      <th>genre</th>\n",
       "      <th>embedding_1</th>\n",
       "      <th>embedding_2</th>\n",
       "      <th>embedding_3</th>\n",
       "      <th>embedding_4</th>\n",
       "      <th>embedding_5</th>\n",
       "      <th>embedding_6</th>\n",
       "      <th>embedding_7</th>\n",
       "      <th>embedding_8</th>\n",
       "      <th>embedding_9</th>\n",
       "      <th>...</th>\n",
       "      <th>embedding_375</th>\n",
       "      <th>embedding_376</th>\n",
       "      <th>embedding_377</th>\n",
       "      <th>embedding_378</th>\n",
       "      <th>embedding_379</th>\n",
       "      <th>embedding_380</th>\n",
       "      <th>embedding_381</th>\n",
       "      <th>embedding_382</th>\n",
       "      <th>embedding_383</th>\n",
       "      <th>embedding_384</th>\n",
       "    </tr>\n",
       "  </thead>\n",
       "  <tbody>\n",
       "    <tr>\n",
       "      <th>0</th>\n",
       "      <td>crime</td>\n",
       "      <td>-0.037961</td>\n",
       "      <td>-0.010047</td>\n",
       "      <td>0.024646</td>\n",
       "      <td>-0.062221</td>\n",
       "      <td>0.037619</td>\n",
       "      <td>-0.007261</td>\n",
       "      <td>0.080556</td>\n",
       "      <td>0.017303</td>\n",
       "      <td>-0.032102</td>\n",
       "      <td>...</td>\n",
       "      <td>0.026059</td>\n",
       "      <td>-0.035682</td>\n",
       "      <td>0.001861</td>\n",
       "      <td>0.014797</td>\n",
       "      <td>0.031231</td>\n",
       "      <td>-0.017260</td>\n",
       "      <td>-0.008786</td>\n",
       "      <td>0.016725</td>\n",
       "      <td>0.022522</td>\n",
       "      <td>0.014918</td>\n",
       "    </tr>\n",
       "    <tr>\n",
       "      <th>1</th>\n",
       "      <td>drama</td>\n",
       "      <td>-0.048284</td>\n",
       "      <td>0.016644</td>\n",
       "      <td>-0.009671</td>\n",
       "      <td>-0.032147</td>\n",
       "      <td>0.061349</td>\n",
       "      <td>0.009491</td>\n",
       "      <td>0.069933</td>\n",
       "      <td>-0.021847</td>\n",
       "      <td>-0.024443</td>\n",
       "      <td>...</td>\n",
       "      <td>0.051359</td>\n",
       "      <td>-0.013961</td>\n",
       "      <td>-0.003452</td>\n",
       "      <td>-0.030090</td>\n",
       "      <td>-0.022626</td>\n",
       "      <td>0.024079</td>\n",
       "      <td>-0.000441</td>\n",
       "      <td>0.030043</td>\n",
       "      <td>0.063390</td>\n",
       "      <td>0.021192</td>\n",
       "    </tr>\n",
       "    <tr>\n",
       "      <th>2</th>\n",
       "      <td>crime</td>\n",
       "      <td>-0.056124</td>\n",
       "      <td>0.007706</td>\n",
       "      <td>0.007324</td>\n",
       "      <td>-0.029381</td>\n",
       "      <td>0.055259</td>\n",
       "      <td>-0.025589</td>\n",
       "      <td>0.095870</td>\n",
       "      <td>-0.028611</td>\n",
       "      <td>0.007656</td>\n",
       "      <td>...</td>\n",
       "      <td>0.010799</td>\n",
       "      <td>-0.027841</td>\n",
       "      <td>0.001584</td>\n",
       "      <td>0.039391</td>\n",
       "      <td>-0.021739</td>\n",
       "      <td>-0.033515</td>\n",
       "      <td>0.029476</td>\n",
       "      <td>-0.012657</td>\n",
       "      <td>0.102413</td>\n",
       "      <td>0.002689</td>\n",
       "    </tr>\n",
       "  </tbody>\n",
       "</table>\n",
       "<p>3 rows × 385 columns</p>\n",
       "</div>"
      ],
      "text/plain": [
       "   genre  embedding_1  embedding_2  embedding_3  embedding_4  embedding_5  \\\n",
       "0  crime    -0.037961    -0.010047     0.024646    -0.062221     0.037619   \n",
       "1  drama    -0.048284     0.016644    -0.009671    -0.032147     0.061349   \n",
       "2  crime    -0.056124     0.007706     0.007324    -0.029381     0.055259   \n",
       "\n",
       "   embedding_6  embedding_7  embedding_8  embedding_9  ...  embedding_375  \\\n",
       "0    -0.007261     0.080556     0.017303    -0.032102  ...       0.026059   \n",
       "1     0.009491     0.069933    -0.021847    -0.024443  ...       0.051359   \n",
       "2    -0.025589     0.095870    -0.028611     0.007656  ...       0.010799   \n",
       "\n",
       "   embedding_376  embedding_377  embedding_378  embedding_379  embedding_380  \\\n",
       "0      -0.035682       0.001861       0.014797       0.031231      -0.017260   \n",
       "1      -0.013961      -0.003452      -0.030090      -0.022626       0.024079   \n",
       "2      -0.027841       0.001584       0.039391      -0.021739      -0.033515   \n",
       "\n",
       "   embedding_381  embedding_382  embedding_383  embedding_384  \n",
       "0      -0.008786       0.016725       0.022522       0.014918  \n",
       "1      -0.000441       0.030043       0.063390       0.021192  \n",
       "2       0.029476      -0.012657       0.102413       0.002689  \n",
       "\n",
       "[3 rows x 385 columns]"
      ]
     },
     "execution_count": 11,
     "metadata": {},
     "output_type": "execute_result"
    }
   ],
   "source": [
    "embedding_test_path = \"data/processed/processed_embeddings_test.csv\"\n",
    "embedding_test_df = pd.read_csv(embedding_test_path)\n",
    "\n",
    "embedding_test_df = pd.concat([test_df[\"genre\"], embedding_test_df], axis=1)\n",
    "embedding_test_df.reset_index(drop=True, inplace=True)\n",
    "embedding_test_df.head(3)"
   ]
  },
  {
   "cell_type": "code",
   "execution_count": 12,
   "metadata": {},
   "outputs": [
    {
     "ename": "NameError",
     "evalue": "name 'plot_pca' is not defined",
     "output_type": "error",
     "traceback": [
      "\u001b[1;31m---------------------------------------------------------------------------\u001b[0m",
      "\u001b[1;31mNameError\u001b[0m                                 Traceback (most recent call last)",
      "Cell \u001b[1;32mIn[12], line 2\u001b[0m\n\u001b[0;32m      1\u001b[0m embeddings_aux \u001b[38;5;241m=\u001b[39m embedding_train_df\u001b[38;5;241m.\u001b[39mdrop(\u001b[38;5;124m\"\u001b[39m\u001b[38;5;124mgenre\u001b[39m\u001b[38;5;124m\"\u001b[39m, inplace\u001b[38;5;241m=\u001b[39m\u001b[38;5;28;01mFalse\u001b[39;00m, axis\u001b[38;5;241m=\u001b[39m\u001b[38;5;241m1\u001b[39m)\n\u001b[1;32m----> 2\u001b[0m pca_embedding_df, pca_embedding \u001b[38;5;241m=\u001b[39m \u001b[43mplot_pca\u001b[49m(embeddings_aux, embedding_train_df[\u001b[38;5;124m\"\u001b[39m\u001b[38;5;124mgenre\u001b[39m\u001b[38;5;124m\"\u001b[39m])\n",
      "\u001b[1;31mNameError\u001b[0m: name 'plot_pca' is not defined"
     ]
    }
   ],
   "source": [
    "embeddings_aux = embedding_train_df.drop(\"genre\", inplace=False, axis=1)\n",
    "pca_embedding_df, pca_embedding = plot_pca(embeddings_aux, embedding_train_df[\"genre\"])"
   ]
  },
  {
   "cell_type": "markdown",
   "metadata": {},
   "source": [
    "# Duplicate Candidates & Cleanning Directors\n"
   ]
  },
  {
   "cell_type": "code",
   "execution_count": 30,
   "metadata": {},
   "outputs": [],
   "source": [
    "%autoreload 2\n",
    "\n",
    "from src.duplicates import (\n",
    "    filter_duplicate_descriptions,\n",
    "    find_similar_descriptions,\n",
    "    print_differences,\n",
    "    create_name_map,\n",
    "    map_director_names,\n",
    ")"
   ]
  },
  {
   "cell_type": "code",
   "execution_count": null,
   "metadata": {},
   "outputs": [],
   "source": [
    "filter_duplicate_descriptions(train_df, \"description\", \"title\").head(6)"
   ]
  },
  {
   "cell_type": "code",
   "execution_count": 32,
   "metadata": {},
   "outputs": [],
   "source": [
    "similar_pairs = find_similar_descriptions(train_df, \"description\")"
   ]
  },
  {
   "cell_type": "code",
   "execution_count": null,
   "metadata": {},
   "outputs": [],
   "source": [
    "print_differences(train_df, similar_pairs, \"title\")\n",
    "print(\"\\n\")\n",
    "print_differences(train_df, similar_pairs, \"director\")\n",
    "print(\"\\n\")\n",
    "print_differences(df, similar_pairs, \"genre\")\n",
    "print(\"\\n\")\n",
    "print_differences(df, similar_pairs, \"from\")"
   ]
  },
  {
   "cell_type": "code",
   "execution_count": null,
   "metadata": {},
   "outputs": [],
   "source": [
    "# Create the mapping dictionary that maps the original director name to a standardized version\n",
    "name_map = create_name_map(df)\n",
    "# Map the names\n",
    "map_director_names(df, name_map)"
   ]
  },
  {
   "cell_type": "markdown",
   "metadata": {},
   "source": [
    "# Preprocessing\n"
   ]
  },
  {
   "cell_type": "code",
   "execution_count": 28,
   "metadata": {},
   "outputs": [],
   "source": [
    "%autoreload 2\n",
    "\n",
    "from src.preprocessing import preprocess_sentence\n",
    "\n",
    "# Expand contractions, extract noun-phrases, tokenize and lemmatize (optionally remove stopwords)\n",
    "train_df[\"title\"] = train_df[\"title\"].apply(preprocess_sentence)\n",
    "train_df[\"description\"] = train_df[\"description\"].apply(preprocess_sentence)\n",
    "\n",
    "test_df[\"title\"] = test_df[\"title\"].apply(preprocess_sentence)\n",
    "test_df[\"description\"] = test_df[\"description\"].apply(preprocess_sentence)"
   ]
  },
  {
   "cell_type": "markdown",
   "metadata": {},
   "source": [
    "# Feature Engineering"
   ]
  },
  {
   "cell_type": "code",
   "execution_count": 25,
   "metadata": {},
   "outputs": [],
   "source": [
    "%autoreload 2\n",
    "\n",
    "from src.features import REGION_MAP, select_tokens"
   ]
  },
  {
   "cell_type": "code",
   "execution_count": 7,
   "metadata": {},
   "outputs": [],
   "source": [
    "train_df[\"region\"] = train_df[\"from\"].map(REGION_MAP)"
   ]
  },
  {
   "cell_type": "markdown",
   "metadata": {},
   "source": [
    "# Feature Selection (Log Ratio Analysis)\n"
   ]
  },
  {
   "cell_type": "code",
   "execution_count": 19,
   "metadata": {},
   "outputs": [],
   "source": [
    "%autoreload 2\n",
    "from src.logratioanalysis import LogRatioAnalysis, plot_scree_subplots_for_genres"
   ]
  },
  {
   "cell_type": "code",
   "execution_count": null,
   "metadata": {},
   "outputs": [],
   "source": [
    "logratio_title = LogRatioAnalysis(train_df, \"title\", \"genre\")\n",
    "logratio_description = LogRatioAnalysis(train_df, \"description\", \"genre\")"
   ]
  },
  {
   "cell_type": "code",
   "execution_count": null,
   "metadata": {},
   "outputs": [],
   "source": [
    "plot_scree_subplots_for_genres(logratio_title)"
   ]
  },
  {
   "cell_type": "code",
   "execution_count": null,
   "metadata": {},
   "outputs": [],
   "source": [
    "plot_scree_subplots_for_genres(logratio_description)"
   ]
  },
  {
   "cell_type": "code",
   "execution_count": 22,
   "metadata": {},
   "outputs": [],
   "source": [
    "description_tokens = logratio_description.feature_selection(25000)\n",
    "title_tokens = logratio_title.feature_selection(1000)"
   ]
  },
  {
   "cell_type": "code",
   "execution_count": 23,
   "metadata": {},
   "outputs": [],
   "source": [
    "train_df[\"selected_description\"] = train_df[\"description\"].apply(select_tokens, selected_tokens=description_tokens)\n",
    "test_df[\"selected_description\"] = test_df[\"description\"].apply(select_tokens, selected_tokens=description_tokens)"
   ]
  },
  {
   "cell_type": "markdown",
   "metadata": {},
   "source": [
    "# Modelling\n"
   ]
  },
  {
   "cell_type": "code",
   "execution_count": 13,
   "metadata": {},
   "outputs": [],
   "source": [
    "from sklearn.preprocessing import LabelEncoder\n",
    "from mlxtend.feature_selection import ColumnSelector\n",
    "from sklearn.decomposition import TruncatedSVD\n",
    "from sklearn.feature_extraction.text import TfidfVectorizer\n",
    "from sklearn.pipeline import make_pipeline, make_union\n",
    "from sklearn.preprocessing import OneHotEncoder\n",
    "from sklearn.ensemble import HistGradientBoostingClassifier\n",
    "from sklearn.svm import SVC\n",
    "from skrub import SelectCols, SimilarityEncoder\n",
    "from category_encoders import CountEncoder\n",
    "import numpy as np\n",
    "from sklearn.model_selection import RandomizedSearchCV\n",
    "from sklearn.metrics import classification_report, confusion_matrix, accuracy_score\n",
    "from src.plots import plot_confusion_matrix"
   ]
  },
  {
   "cell_type": "code",
   "execution_count": 6,
   "metadata": {},
   "outputs": [],
   "source": [
    "label_encoder = LabelEncoder()\n",
    "label_encoder.fit(train_df[\"genre\"])\n",
    "train_df[\"genre\"] = label_encoder.transform(train_df[\"genre\"])\n",
    "train_df[\"director\"] = train_df[\"director\"].fillna(\"Unknown\")\n",
    "decoded_class_names = label_encoder.inverse_transform(range(len(label_encoder.classes_)))\n",
    "\n",
    "X_train = train_df.drop(\"genre\", axis=1)\n",
    "y_train = train_df[\"genre\"]"
   ]
  },
  {
   "cell_type": "code",
   "execution_count": null,
   "metadata": {},
   "outputs": [],
   "source": [
    "test_df[\"genre\"] = label_encoder.transform(test_df[\"genre\"])\n",
    "test_df[\"director\"] = test_df[\"director\"].fillna(\"Unknown\")\n",
    "\n",
    "X_test = test_df.drop(\"genre\", axis=1)\n",
    "y_test = test_df[\"genre\"]"
   ]
  },
  {
   "cell_type": "markdown",
   "metadata": {},
   "source": [
    "### Scenario 1: HistGradientBoostingClassifier w/ SVD"
   ]
  },
  {
   "cell_type": "code",
   "execution_count": null,
   "metadata": {},
   "outputs": [],
   "source": [
    "text_pipeline_1 = make_union(\n",
    "    make_pipeline(\n",
    "        ColumnSelector(\"title\", drop_axis=True),\n",
    "        TfidfVectorizer(),\n",
    "        TruncatedSVD(),\n",
    "    ),\n",
    "    make_pipeline(\n",
    "        ColumnSelector(\"description\", drop_axis=True),\n",
    "        TfidfVectorizer(),\n",
    "        TruncatedSVD(),\n",
    "    ),\n",
    "    make_pipeline(SelectCols(\"region\"), SimilarityEncoder()),\n",
    "    make_pipeline(SelectCols(\"from\"), OneHotEncoder(sparse_output=False)),\n",
    "    make_pipeline(ColumnSelector(\"director\", drop_axis=True), CountEncoder()),\n",
    ")\n",
    "\n",
    "pipeline_1 = make_pipeline(text_pipeline_1, HistGradientBoostingClassifier())\n",
    "pipeline_1"
   ]
  },
  {
   "cell_type": "code",
   "execution_count": null,
   "metadata": {},
   "outputs": [],
   "source": [
    "param_distributions = {\n",
    "    \"histgradientboostingclassifier__learning_rate\": np.logspace(-3, 0, 100),\n",
    "    \"histgradientboostingclassifier__max_iter\": np.arange(100, 500, 50),\n",
    "    \"histgradientboostingclassifier__max_depth\": np.arange(3, 15),\n",
    "    \"histgradientboostingclassifier__min_samples_leaf\": np.arange(1, 51, 5),\n",
    "    \"histgradientboostingclassifier__max_leaf_nodes\": np.arange(10, 301, 10),\n",
    "    \"histgradientboostingclassifier__l2_regularization\": np.logspace(-4, 0, 100),\n",
    "    \"histgradientboostingclassifier__scoring\": [\"accuracy\"],\n",
    "    \"featureunion__pipeline-1__truncatedsvd__n_components\": np.arange(200, 400, 50),\n",
    "    \"featureunion__pipeline-2__truncatedsvd__n_components\": np.arange(4000, 6000, 500),\n",
    "    \"featureunion__pipeline-5__truncatedsvd__n_components\": np.arange(200, 400, 50),\n",
    "}"
   ]
  },
  {
   "cell_type": "code",
   "execution_count": null,
   "metadata": {},
   "outputs": [],
   "source": [
    "random_search_1 = RandomizedSearchCV(\n",
    "    pipeline_1,\n",
    "    param_distributions=param_distributions,\n",
    "    n_iter=10,\n",
    "    cv=4,\n",
    "    scoring=\"accuracy\",\n",
    "    random_state=42,\n",
    "    verbose=4,\n",
    "    error_score=\"raise\",\n",
    ")\n",
    "random_search_1.fit(X_train, y_train)"
   ]
  },
  {
   "cell_type": "code",
   "execution_count": null,
   "metadata": {},
   "outputs": [],
   "source": [
    "best_params = random_search_1.best_params_\n",
    "best_score = random_search_1.best_score_\n",
    "best_model = random_search_1.best_estimator_\n",
    "\n",
    "print(\"\\n Best Parameters:\", best_params)\n",
    "print(\"\\n Best Score:\", best_score)"
   ]
  },
  {
   "cell_type": "code",
   "execution_count": null,
   "metadata": {},
   "outputs": [],
   "source": [
    "# TODO: use best metrics to predict on test set\n",
    "pipeline_1.set_params(**best_params)\n",
    "pipeline_1.fit(X_train, y_train)\n",
    "y_pred = pipeline_1.predict(X_test)"
   ]
  },
  {
   "cell_type": "code",
   "execution_count": null,
   "metadata": {},
   "outputs": [],
   "source": [
    "accuracy_score(y_test, y_pred)"
   ]
  },
  {
   "cell_type": "code",
   "execution_count": null,
   "metadata": {},
   "outputs": [],
   "source": [
    "print(classification_report(y_test, y_pred, target_names=label_encoder.classes_))"
   ]
  },
  {
   "cell_type": "code",
   "execution_count": null,
   "metadata": {},
   "outputs": [],
   "source": [
    "cm = confusion_matrix(y_test, y_pred)\n",
    "plot_confusion_matrix(cm,decoded_class_names )"
   ]
  },
  {
   "cell_type": "markdown",
   "metadata": {},
   "source": [
    "### Scenario 2: SVM w/o feature selection"
   ]
  },
  {
   "cell_type": "code",
   "execution_count": null,
   "metadata": {},
   "outputs": [],
   "source": [
    "text_pipeline_2 = make_union(\n",
    "    make_pipeline(\n",
    "        ColumnSelector(\"title\", drop_axis=True),\n",
    "        TfidfVectorizer(),\n",
    "    ),\n",
    "    make_pipeline(\n",
    "        ColumnSelector(\"description\", drop_axis=True),\n",
    "        TfidfVectorizer(),\n",
    "    ),\n",
    "    make_pipeline(SelectCols(\"region\"), SimilarityEncoder()),\n",
    "    make_pipeline(SelectCols(\"from\"), OneHotEncoder(sparse_output=False)),\n",
    "    make_pipeline(ColumnSelector(\"director\", drop_axis=True), CountEncoder()),\n",
    ")\n",
    "\n",
    "pipeline_2 = make_pipeline(text_pipeline_2, SVC())\n",
    "pipeline_2"
   ]
  },
  {
   "cell_type": "code",
   "execution_count": null,
   "metadata": {},
   "outputs": [],
   "source": [
    "param_distributions = {\n",
    "    \"svc__C\": np.logspace(-3, 3, 100),\n",
    "    \"svc__kernel\": [\"poly\", \"sigmoid\", \"rbf\", \"linear\"],\n",
    "    \"svc__gamma\": [\"scale\", \"auto\"] + list(np.logspace(-4, 1, 100)),\n",
    "    \"svc__degree\": np.arange(2, 6),\n",
    "    \"svc__coef0\": np.linspace(-1, 1, 100),\n",
    "    \"svc__class_weight\": [\"balanced\", None],\n",
    "}"
   ]
  },
  {
   "cell_type": "code",
   "execution_count": null,
   "metadata": {},
   "outputs": [],
   "source": [
    "random_search_2 = RandomizedSearchCV(\n",
    "    pipeline_2,\n",
    "    param_distributions=param_distributions,\n",
    "    n_iter=50,\n",
    "    cv=4,\n",
    "    scoring=\"accuracy\",\n",
    "    random_state=42,\n",
    "    verbose=4,\n",
    "    error_score=\"raise\",\n",
    ")\n",
    "random_search_2.fit(X_train, y_train)"
   ]
  },
  {
   "cell_type": "code",
   "execution_count": null,
   "metadata": {},
   "outputs": [],
   "source": [
    "best_params = random_search_2.best_params_\n",
    "best_score = random_search_2.best_score_\n",
    "best_model = random_search_2.best_estimator_\n",
    "\n",
    "print(\"\\nBest Parameters:\", best_params)\n",
    "print(\"\\nBest Score:\", best_score)"
   ]
  },
  {
   "cell_type": "markdown",
   "metadata": {},
   "source": [
    "Best Parameters: {\n",
    "    \n",
    "    'svc__C': np.float64(3.9676050770529883), \n",
    "\n",
    "    'svc__coef0': np.float64(0.3991305878561679), \n",
    "    \n",
    "    'svc__degree': 4, 'svc__gamma': 'auto',\n",
    "    \n",
    "    'svc__kernel': 'linear'}\n",
    "\n",
    "Best Score: 0.6512520009226962"
   ]
  },
  {
   "cell_type": "code",
   "execution_count": null,
   "metadata": {},
   "outputs": [],
   "source": [
    "# TODO: use best metrics to predict on test set\n",
    "pipeline_2.set_params(**best_params)\n",
    "pipeline_2.fit(X_train, y_train)\n",
    "y_pred = pipeline_2.predict(X_test)"
   ]
  },
  {
   "cell_type": "code",
   "execution_count": null,
   "metadata": {},
   "outputs": [],
   "source": [
    "accuracy_score(y_test, y_pred)"
   ]
  },
  {
   "cell_type": "code",
   "execution_count": null,
   "metadata": {},
   "outputs": [],
   "source": [
    "print(classification_report(y_test, y_pred, target_names=label_encoder.classes_))"
   ]
  },
  {
   "cell_type": "code",
   "execution_count": null,
   "metadata": {},
   "outputs": [],
   "source": [
    "cm = confusion_matrix(y_test, y_pred)\n",
    "plot_confusion_matrix(cm, decoded_class_names )"
   ]
  },
  {
   "cell_type": "markdown",
   "metadata": {},
   "source": [
    "### Scenario 3: SVM w/ Feature Selection"
   ]
  },
  {
   "cell_type": "code",
   "execution_count": null,
   "metadata": {},
   "outputs": [],
   "source": [
    "text_pipeline_3 = make_union(\n",
    "    make_pipeline(\n",
    "        ColumnSelector(\"title\", drop_axis=True),\n",
    "        TfidfVectorizer(ngram_range=(2, 4)),\n",
    "    ),\n",
    "    make_pipeline(\n",
    "        ColumnSelector(\"selected_description\", drop_axis=True),\n",
    "        TfidfVectorizer(),\n",
    "    ),\n",
    "    make_pipeline(SelectCols(\"region\"), SimilarityEncoder()),\n",
    "    make_pipeline(SelectCols(\"from\"), OneHotEncoder(sparse_output=False)),\n",
    "    make_pipeline(ColumnSelector(\"director\", drop_axis=True), CountEncoder()),\n",
    ")\n",
    "\n",
    "pipeline_3 = make_pipeline(text_pipeline_3, SVC())\n",
    "pipeline_3"
   ]
  },
  {
   "cell_type": "code",
   "execution_count": null,
   "metadata": {},
   "outputs": [],
   "source": [
    "random_search_3 = RandomizedSearchCV(\n",
    "    pipeline_3,\n",
    "    param_distributions=param_distributions,\n",
    "    n_iter=50,\n",
    "    cv=4,\n",
    "    scoring=\"accuracy\",\n",
    "    random_state=42,\n",
    "    verbose=4,\n",
    "    error_score=\"raise\",\n",
    ")\n",
    "random_search_3.fit(X_train, y_train)"
   ]
  },
  {
   "cell_type": "code",
   "execution_count": null,
   "metadata": {},
   "outputs": [],
   "source": [
    "best_params = random_search_3.best_params_\n",
    "best_score = random_search_3.best_score_\n",
    "best_model = random_search_3.best_estimator_\n",
    "\n",
    "print(\"\\nBest Parameters:\", best_params)\n",
    "print(\"\\nBest Score:\", best_score)"
   ]
  },
  {
   "cell_type": "markdown",
   "metadata": {},
   "source": [
    "Best Parameters: {\n",
    "    \n",
    "    'svc__C': np.float64(3.9676050770529883), \n",
    "\n",
    "    'svc__coef0': np.float6(03991305878561679), \n",
    "\n",
    "    'svc__degree': 4, \n",
    "\n",
    "    'svc__gamma': 'auto', \n",
    "\n",
    "    'svc__kernel': 'linear'}\n",
    "\n",
    "Best Score: 0.6364193794168839"
   ]
  },
  {
   "cell_type": "code",
   "execution_count": null,
   "metadata": {},
   "outputs": [],
   "source": [
    "# TODO: use best metrics to predict on test set\n",
    "pipeline_3.set_params(**best_params)\n",
    "pipeline_3.fit(X_train, y_train)\n",
    "y_pred = pipeline_3.predict(X_test)"
   ]
  },
  {
   "cell_type": "code",
   "execution_count": null,
   "metadata": {},
   "outputs": [],
   "source": [
    "accuracy_score(y_test, y_pred)"
   ]
  },
  {
   "cell_type": "code",
   "execution_count": null,
   "metadata": {},
   "outputs": [],
   "source": [
    "print(classification_report(y_test, y_pred, target_names=label_encoder.classes_))"
   ]
  },
  {
   "cell_type": "code",
   "execution_count": null,
   "metadata": {},
   "outputs": [],
   "source": [
    "cm = confusion_matrix(y_test, y_pred)\n",
    "plot_confusion_matrix(cm, decoded_class_names )"
   ]
  },
  {
   "cell_type": "markdown",
   "metadata": {},
   "source": [
    "### Modelling with Embeddings"
   ]
  },
  {
   "cell_type": "code",
   "execution_count": 17,
   "metadata": {},
   "outputs": [],
   "source": [
    "label_encoder = LabelEncoder()\n",
    "label_encoder = label_encoder.fit(train_df[\"genre\"])\n",
    "embedding_train_df[\"genre\"] = label_encoder.transform(embedding_train_df[\"genre\"])\n",
    "decoded_class_names = label_encoder.inverse_transform(range(len(label_encoder.classes_)))\n",
    "\n",
    "X_train = embedding_train_df.drop(\"genre\", axis=1)\n",
    "y_train = embedding_train_df[\"genre\"]"
   ]
  },
  {
   "cell_type": "code",
   "execution_count": 18,
   "metadata": {},
   "outputs": [],
   "source": [
    "embedding_test_df[\"genre\"] = label_encoder.transform(embedding_test_df[\"genre\"])\n",
    "\n",
    "X_test = embedding_test_df.drop(\"genre\", axis=1)\n",
    "y_test = embedding_test_df[\"genre\"]"
   ]
  },
  {
   "cell_type": "markdown",
   "metadata": {},
   "source": [
    "### Scenario 4: SVM w/ Embeddings  "
   ]
  },
  {
   "cell_type": "code",
   "execution_count": 19,
   "metadata": {},
   "outputs": [],
   "source": [
    "param_distributions = {\n",
    "    \"C\": np.logspace(-3, 3, 100),\n",
    "    \"kernel\": [\"poly\", \"sigmoid\"],\n",
    "    \"gamma\": [\"scale\", \"auto\"] + list(np.logspace(-4, 1, 100)),\n",
    "    \"degree\": np.arange(2, 6),\n",
    "    \"coef0\": np.linspace(-1, 1, 100),\n",
    "    \"class_weight\": [\"balanced\", None],\n",
    "}"
   ]
  },
  {
   "cell_type": "code",
   "execution_count": 20,
   "metadata": {},
   "outputs": [
    {
     "name": "stdout",
     "output_type": "stream",
     "text": [
      "Fitting 4 folds for each of 50 candidates, totalling 200 fits\n"
     ]
    },
    {
     "data": {
      "text/html": [
       "<style>#sk-container-id-1 {\n",
       "  /* Definition of color scheme common for light and dark mode */\n",
       "  --sklearn-color-text: black;\n",
       "  --sklearn-color-line: gray;\n",
       "  /* Definition of color scheme for unfitted estimators */\n",
       "  --sklearn-color-unfitted-level-0: #fff5e6;\n",
       "  --sklearn-color-unfitted-level-1: #f6e4d2;\n",
       "  --sklearn-color-unfitted-level-2: #ffe0b3;\n",
       "  --sklearn-color-unfitted-level-3: chocolate;\n",
       "  /* Definition of color scheme for fitted estimators */\n",
       "  --sklearn-color-fitted-level-0: #f0f8ff;\n",
       "  --sklearn-color-fitted-level-1: #d4ebff;\n",
       "  --sklearn-color-fitted-level-2: #b3dbfd;\n",
       "  --sklearn-color-fitted-level-3: cornflowerblue;\n",
       "\n",
       "  /* Specific color for light theme */\n",
       "  --sklearn-color-text-on-default-background: var(--sg-text-color, var(--theme-code-foreground, var(--jp-content-font-color1, black)));\n",
       "  --sklearn-color-background: var(--sg-background-color, var(--theme-background, var(--jp-layout-color0, white)));\n",
       "  --sklearn-color-border-box: var(--sg-text-color, var(--theme-code-foreground, var(--jp-content-font-color1, black)));\n",
       "  --sklearn-color-icon: #696969;\n",
       "\n",
       "  @media (prefers-color-scheme: dark) {\n",
       "    /* Redefinition of color scheme for dark theme */\n",
       "    --sklearn-color-text-on-default-background: var(--sg-text-color, var(--theme-code-foreground, var(--jp-content-font-color1, white)));\n",
       "    --sklearn-color-background: var(--sg-background-color, var(--theme-background, var(--jp-layout-color0, #111)));\n",
       "    --sklearn-color-border-box: var(--sg-text-color, var(--theme-code-foreground, var(--jp-content-font-color1, white)));\n",
       "    --sklearn-color-icon: #878787;\n",
       "  }\n",
       "}\n",
       "\n",
       "#sk-container-id-1 {\n",
       "  color: var(--sklearn-color-text);\n",
       "}\n",
       "\n",
       "#sk-container-id-1 pre {\n",
       "  padding: 0;\n",
       "}\n",
       "\n",
       "#sk-container-id-1 input.sk-hidden--visually {\n",
       "  border: 0;\n",
       "  clip: rect(1px 1px 1px 1px);\n",
       "  clip: rect(1px, 1px, 1px, 1px);\n",
       "  height: 1px;\n",
       "  margin: -1px;\n",
       "  overflow: hidden;\n",
       "  padding: 0;\n",
       "  position: absolute;\n",
       "  width: 1px;\n",
       "}\n",
       "\n",
       "#sk-container-id-1 div.sk-dashed-wrapped {\n",
       "  border: 1px dashed var(--sklearn-color-line);\n",
       "  margin: 0 0.4em 0.5em 0.4em;\n",
       "  box-sizing: border-box;\n",
       "  padding-bottom: 0.4em;\n",
       "  background-color: var(--sklearn-color-background);\n",
       "}\n",
       "\n",
       "#sk-container-id-1 div.sk-container {\n",
       "  /* jupyter's `normalize.less` sets `[hidden] { display: none; }`\n",
       "     but bootstrap.min.css set `[hidden] { display: none !important; }`\n",
       "     so we also need the `!important` here to be able to override the\n",
       "     default hidden behavior on the sphinx rendered scikit-learn.org.\n",
       "     See: https://github.com/scikit-learn/scikit-learn/issues/21755 */\n",
       "  display: inline-block !important;\n",
       "  position: relative;\n",
       "}\n",
       "\n",
       "#sk-container-id-1 div.sk-text-repr-fallback {\n",
       "  display: none;\n",
       "}\n",
       "\n",
       "div.sk-parallel-item,\n",
       "div.sk-serial,\n",
       "div.sk-item {\n",
       "  /* draw centered vertical line to link estimators */\n",
       "  background-image: linear-gradient(var(--sklearn-color-text-on-default-background), var(--sklearn-color-text-on-default-background));\n",
       "  background-size: 2px 100%;\n",
       "  background-repeat: no-repeat;\n",
       "  background-position: center center;\n",
       "}\n",
       "\n",
       "/* Parallel-specific style estimator block */\n",
       "\n",
       "#sk-container-id-1 div.sk-parallel-item::after {\n",
       "  content: \"\";\n",
       "  width: 100%;\n",
       "  border-bottom: 2px solid var(--sklearn-color-text-on-default-background);\n",
       "  flex-grow: 1;\n",
       "}\n",
       "\n",
       "#sk-container-id-1 div.sk-parallel {\n",
       "  display: flex;\n",
       "  align-items: stretch;\n",
       "  justify-content: center;\n",
       "  background-color: var(--sklearn-color-background);\n",
       "  position: relative;\n",
       "}\n",
       "\n",
       "#sk-container-id-1 div.sk-parallel-item {\n",
       "  display: flex;\n",
       "  flex-direction: column;\n",
       "}\n",
       "\n",
       "#sk-container-id-1 div.sk-parallel-item:first-child::after {\n",
       "  align-self: flex-end;\n",
       "  width: 50%;\n",
       "}\n",
       "\n",
       "#sk-container-id-1 div.sk-parallel-item:last-child::after {\n",
       "  align-self: flex-start;\n",
       "  width: 50%;\n",
       "}\n",
       "\n",
       "#sk-container-id-1 div.sk-parallel-item:only-child::after {\n",
       "  width: 0;\n",
       "}\n",
       "\n",
       "/* Serial-specific style estimator block */\n",
       "\n",
       "#sk-container-id-1 div.sk-serial {\n",
       "  display: flex;\n",
       "  flex-direction: column;\n",
       "  align-items: center;\n",
       "  background-color: var(--sklearn-color-background);\n",
       "  padding-right: 1em;\n",
       "  padding-left: 1em;\n",
       "}\n",
       "\n",
       "\n",
       "/* Toggleable style: style used for estimator/Pipeline/ColumnTransformer box that is\n",
       "clickable and can be expanded/collapsed.\n",
       "- Pipeline and ColumnTransformer use this feature and define the default style\n",
       "- Estimators will overwrite some part of the style using the `sk-estimator` class\n",
       "*/\n",
       "\n",
       "/* Pipeline and ColumnTransformer style (default) */\n",
       "\n",
       "#sk-container-id-1 div.sk-toggleable {\n",
       "  /* Default theme specific background. It is overwritten whether we have a\n",
       "  specific estimator or a Pipeline/ColumnTransformer */\n",
       "  background-color: var(--sklearn-color-background);\n",
       "}\n",
       "\n",
       "/* Toggleable label */\n",
       "#sk-container-id-1 label.sk-toggleable__label {\n",
       "  cursor: pointer;\n",
       "  display: block;\n",
       "  width: 100%;\n",
       "  margin-bottom: 0;\n",
       "  padding: 0.5em;\n",
       "  box-sizing: border-box;\n",
       "  text-align: center;\n",
       "}\n",
       "\n",
       "#sk-container-id-1 label.sk-toggleable__label-arrow:before {\n",
       "  /* Arrow on the left of the label */\n",
       "  content: \"▸\";\n",
       "  float: left;\n",
       "  margin-right: 0.25em;\n",
       "  color: var(--sklearn-color-icon);\n",
       "}\n",
       "\n",
       "#sk-container-id-1 label.sk-toggleable__label-arrow:hover:before {\n",
       "  color: var(--sklearn-color-text);\n",
       "}\n",
       "\n",
       "/* Toggleable content - dropdown */\n",
       "\n",
       "#sk-container-id-1 div.sk-toggleable__content {\n",
       "  max-height: 0;\n",
       "  max-width: 0;\n",
       "  overflow: hidden;\n",
       "  text-align: left;\n",
       "  /* unfitted */\n",
       "  background-color: var(--sklearn-color-unfitted-level-0);\n",
       "}\n",
       "\n",
       "#sk-container-id-1 div.sk-toggleable__content.fitted {\n",
       "  /* fitted */\n",
       "  background-color: var(--sklearn-color-fitted-level-0);\n",
       "}\n",
       "\n",
       "#sk-container-id-1 div.sk-toggleable__content pre {\n",
       "  margin: 0.2em;\n",
       "  border-radius: 0.25em;\n",
       "  color: var(--sklearn-color-text);\n",
       "  /* unfitted */\n",
       "  background-color: var(--sklearn-color-unfitted-level-0);\n",
       "}\n",
       "\n",
       "#sk-container-id-1 div.sk-toggleable__content.fitted pre {\n",
       "  /* unfitted */\n",
       "  background-color: var(--sklearn-color-fitted-level-0);\n",
       "}\n",
       "\n",
       "#sk-container-id-1 input.sk-toggleable__control:checked~div.sk-toggleable__content {\n",
       "  /* Expand drop-down */\n",
       "  max-height: 200px;\n",
       "  max-width: 100%;\n",
       "  overflow: auto;\n",
       "}\n",
       "\n",
       "#sk-container-id-1 input.sk-toggleable__control:checked~label.sk-toggleable__label-arrow:before {\n",
       "  content: \"▾\";\n",
       "}\n",
       "\n",
       "/* Pipeline/ColumnTransformer-specific style */\n",
       "\n",
       "#sk-container-id-1 div.sk-label input.sk-toggleable__control:checked~label.sk-toggleable__label {\n",
       "  color: var(--sklearn-color-text);\n",
       "  background-color: var(--sklearn-color-unfitted-level-2);\n",
       "}\n",
       "\n",
       "#sk-container-id-1 div.sk-label.fitted input.sk-toggleable__control:checked~label.sk-toggleable__label {\n",
       "  background-color: var(--sklearn-color-fitted-level-2);\n",
       "}\n",
       "\n",
       "/* Estimator-specific style */\n",
       "\n",
       "/* Colorize estimator box */\n",
       "#sk-container-id-1 div.sk-estimator input.sk-toggleable__control:checked~label.sk-toggleable__label {\n",
       "  /* unfitted */\n",
       "  background-color: var(--sklearn-color-unfitted-level-2);\n",
       "}\n",
       "\n",
       "#sk-container-id-1 div.sk-estimator.fitted input.sk-toggleable__control:checked~label.sk-toggleable__label {\n",
       "  /* fitted */\n",
       "  background-color: var(--sklearn-color-fitted-level-2);\n",
       "}\n",
       "\n",
       "#sk-container-id-1 div.sk-label label.sk-toggleable__label,\n",
       "#sk-container-id-1 div.sk-label label {\n",
       "  /* The background is the default theme color */\n",
       "  color: var(--sklearn-color-text-on-default-background);\n",
       "}\n",
       "\n",
       "/* On hover, darken the color of the background */\n",
       "#sk-container-id-1 div.sk-label:hover label.sk-toggleable__label {\n",
       "  color: var(--sklearn-color-text);\n",
       "  background-color: var(--sklearn-color-unfitted-level-2);\n",
       "}\n",
       "\n",
       "/* Label box, darken color on hover, fitted */\n",
       "#sk-container-id-1 div.sk-label.fitted:hover label.sk-toggleable__label.fitted {\n",
       "  color: var(--sklearn-color-text);\n",
       "  background-color: var(--sklearn-color-fitted-level-2);\n",
       "}\n",
       "\n",
       "/* Estimator label */\n",
       "\n",
       "#sk-container-id-1 div.sk-label label {\n",
       "  font-family: monospace;\n",
       "  font-weight: bold;\n",
       "  display: inline-block;\n",
       "  line-height: 1.2em;\n",
       "}\n",
       "\n",
       "#sk-container-id-1 div.sk-label-container {\n",
       "  text-align: center;\n",
       "}\n",
       "\n",
       "/* Estimator-specific */\n",
       "#sk-container-id-1 div.sk-estimator {\n",
       "  font-family: monospace;\n",
       "  border: 1px dotted var(--sklearn-color-border-box);\n",
       "  border-radius: 0.25em;\n",
       "  box-sizing: border-box;\n",
       "  margin-bottom: 0.5em;\n",
       "  /* unfitted */\n",
       "  background-color: var(--sklearn-color-unfitted-level-0);\n",
       "}\n",
       "\n",
       "#sk-container-id-1 div.sk-estimator.fitted {\n",
       "  /* fitted */\n",
       "  background-color: var(--sklearn-color-fitted-level-0);\n",
       "}\n",
       "\n",
       "/* on hover */\n",
       "#sk-container-id-1 div.sk-estimator:hover {\n",
       "  /* unfitted */\n",
       "  background-color: var(--sklearn-color-unfitted-level-2);\n",
       "}\n",
       "\n",
       "#sk-container-id-1 div.sk-estimator.fitted:hover {\n",
       "  /* fitted */\n",
       "  background-color: var(--sklearn-color-fitted-level-2);\n",
       "}\n",
       "\n",
       "/* Specification for estimator info (e.g. \"i\" and \"?\") */\n",
       "\n",
       "/* Common style for \"i\" and \"?\" */\n",
       "\n",
       ".sk-estimator-doc-link,\n",
       "a:link.sk-estimator-doc-link,\n",
       "a:visited.sk-estimator-doc-link {\n",
       "  float: right;\n",
       "  font-size: smaller;\n",
       "  line-height: 1em;\n",
       "  font-family: monospace;\n",
       "  background-color: var(--sklearn-color-background);\n",
       "  border-radius: 1em;\n",
       "  height: 1em;\n",
       "  width: 1em;\n",
       "  text-decoration: none !important;\n",
       "  margin-left: 1ex;\n",
       "  /* unfitted */\n",
       "  border: var(--sklearn-color-unfitted-level-1) 1pt solid;\n",
       "  color: var(--sklearn-color-unfitted-level-1);\n",
       "}\n",
       "\n",
       ".sk-estimator-doc-link.fitted,\n",
       "a:link.sk-estimator-doc-link.fitted,\n",
       "a:visited.sk-estimator-doc-link.fitted {\n",
       "  /* fitted */\n",
       "  border: var(--sklearn-color-fitted-level-1) 1pt solid;\n",
       "  color: var(--sklearn-color-fitted-level-1);\n",
       "}\n",
       "\n",
       "/* On hover */\n",
       "div.sk-estimator:hover .sk-estimator-doc-link:hover,\n",
       ".sk-estimator-doc-link:hover,\n",
       "div.sk-label-container:hover .sk-estimator-doc-link:hover,\n",
       ".sk-estimator-doc-link:hover {\n",
       "  /* unfitted */\n",
       "  background-color: var(--sklearn-color-unfitted-level-3);\n",
       "  color: var(--sklearn-color-background);\n",
       "  text-decoration: none;\n",
       "}\n",
       "\n",
       "div.sk-estimator.fitted:hover .sk-estimator-doc-link.fitted:hover,\n",
       ".sk-estimator-doc-link.fitted:hover,\n",
       "div.sk-label-container:hover .sk-estimator-doc-link.fitted:hover,\n",
       ".sk-estimator-doc-link.fitted:hover {\n",
       "  /* fitted */\n",
       "  background-color: var(--sklearn-color-fitted-level-3);\n",
       "  color: var(--sklearn-color-background);\n",
       "  text-decoration: none;\n",
       "}\n",
       "\n",
       "/* Span, style for the box shown on hovering the info icon */\n",
       ".sk-estimator-doc-link span {\n",
       "  display: none;\n",
       "  z-index: 9999;\n",
       "  position: relative;\n",
       "  font-weight: normal;\n",
       "  right: .2ex;\n",
       "  padding: .5ex;\n",
       "  margin: .5ex;\n",
       "  width: min-content;\n",
       "  min-width: 20ex;\n",
       "  max-width: 50ex;\n",
       "  color: var(--sklearn-color-text);\n",
       "  box-shadow: 2pt 2pt 4pt #999;\n",
       "  /* unfitted */\n",
       "  background: var(--sklearn-color-unfitted-level-0);\n",
       "  border: .5pt solid var(--sklearn-color-unfitted-level-3);\n",
       "}\n",
       "\n",
       ".sk-estimator-doc-link.fitted span {\n",
       "  /* fitted */\n",
       "  background: var(--sklearn-color-fitted-level-0);\n",
       "  border: var(--sklearn-color-fitted-level-3);\n",
       "}\n",
       "\n",
       ".sk-estimator-doc-link:hover span {\n",
       "  display: block;\n",
       "}\n",
       "\n",
       "/* \"?\"-specific style due to the `<a>` HTML tag */\n",
       "\n",
       "#sk-container-id-1 a.estimator_doc_link {\n",
       "  float: right;\n",
       "  font-size: 1rem;\n",
       "  line-height: 1em;\n",
       "  font-family: monospace;\n",
       "  background-color: var(--sklearn-color-background);\n",
       "  border-radius: 1rem;\n",
       "  height: 1rem;\n",
       "  width: 1rem;\n",
       "  text-decoration: none;\n",
       "  /* unfitted */\n",
       "  color: var(--sklearn-color-unfitted-level-1);\n",
       "  border: var(--sklearn-color-unfitted-level-1) 1pt solid;\n",
       "}\n",
       "\n",
       "#sk-container-id-1 a.estimator_doc_link.fitted {\n",
       "  /* fitted */\n",
       "  border: var(--sklearn-color-fitted-level-1) 1pt solid;\n",
       "  color: var(--sklearn-color-fitted-level-1);\n",
       "}\n",
       "\n",
       "/* On hover */\n",
       "#sk-container-id-1 a.estimator_doc_link:hover {\n",
       "  /* unfitted */\n",
       "  background-color: var(--sklearn-color-unfitted-level-3);\n",
       "  color: var(--sklearn-color-background);\n",
       "  text-decoration: none;\n",
       "}\n",
       "\n",
       "#sk-container-id-1 a.estimator_doc_link.fitted:hover {\n",
       "  /* fitted */\n",
       "  background-color: var(--sklearn-color-fitted-level-3);\n",
       "}\n",
       "</style><div id=\"sk-container-id-1\" class=\"sk-top-container\"><div class=\"sk-text-repr-fallback\"><pre>RandomizedSearchCV(cv=4, estimator=SVC(), n_iter=50, n_jobs=-1,\n",
       "                   param_distributions={&#x27;C&#x27;: array([1.00000000e-03, 1.14975700e-03, 1.32194115e-03, 1.51991108e-03,\n",
       "       1.74752840e-03, 2.00923300e-03, 2.31012970e-03, 2.65608778e-03,\n",
       "       3.05385551e-03, 3.51119173e-03, 4.03701726e-03, 4.64158883e-03,\n",
       "       5.33669923e-03, 6.13590727e-03, 7.05480231e-03, 8.11130831e-03,\n",
       "       9.32603347e-03, 1.0...\n",
       "                                                  0.0005722367659350221,\n",
       "                                                  0.0006428073117284319,\n",
       "                                                  0.0007220809018385464,\n",
       "                                                  0.0008111308307896872,\n",
       "                                                  0.0009111627561154887,\n",
       "                                                  0.001023531021899027,\n",
       "                                                  0.0011497569953977356,\n",
       "                                                  0.001291549665014884,\n",
       "                                                  0.0014508287784959402,\n",
       "                                                  0.0016297508346206436,\n",
       "                                                  0.0018307382802953678,\n",
       "                                                  0.0020565123083486517,\n",
       "                                                  0.002310129700083158, ...],\n",
       "                                        &#x27;kernel&#x27;: [&#x27;poly&#x27;, &#x27;sigmoid&#x27;]},\n",
       "                   random_state=42, scoring=&#x27;accuracy&#x27;, verbose=4)</pre><b>In a Jupyter environment, please rerun this cell to show the HTML representation or trust the notebook. <br />On GitHub, the HTML representation is unable to render, please try loading this page with nbviewer.org.</b></div><div class=\"sk-container\" hidden><div class=\"sk-item sk-dashed-wrapped\"><div class=\"sk-label-container\"><div class=\"sk-label fitted sk-toggleable\"><input class=\"sk-toggleable__control sk-hidden--visually\" id=\"sk-estimator-id-1\" type=\"checkbox\" ><label for=\"sk-estimator-id-1\" class=\"sk-toggleable__label fitted sk-toggleable__label-arrow fitted\">&nbsp;&nbsp;RandomizedSearchCV<a class=\"sk-estimator-doc-link fitted\" rel=\"noreferrer\" target=\"_blank\" href=\"https://scikit-learn.org/1.5/modules/generated/sklearn.model_selection.RandomizedSearchCV.html\">?<span>Documentation for RandomizedSearchCV</span></a><span class=\"sk-estimator-doc-link fitted\">i<span>Fitted</span></span></label><div class=\"sk-toggleable__content fitted\"><pre>RandomizedSearchCV(cv=4, estimator=SVC(), n_iter=50, n_jobs=-1,\n",
       "                   param_distributions={&#x27;C&#x27;: array([1.00000000e-03, 1.14975700e-03, 1.32194115e-03, 1.51991108e-03,\n",
       "       1.74752840e-03, 2.00923300e-03, 2.31012970e-03, 2.65608778e-03,\n",
       "       3.05385551e-03, 3.51119173e-03, 4.03701726e-03, 4.64158883e-03,\n",
       "       5.33669923e-03, 6.13590727e-03, 7.05480231e-03, 8.11130831e-03,\n",
       "       9.32603347e-03, 1.0...\n",
       "                                                  0.0005722367659350221,\n",
       "                                                  0.0006428073117284319,\n",
       "                                                  0.0007220809018385464,\n",
       "                                                  0.0008111308307896872,\n",
       "                                                  0.0009111627561154887,\n",
       "                                                  0.001023531021899027,\n",
       "                                                  0.0011497569953977356,\n",
       "                                                  0.001291549665014884,\n",
       "                                                  0.0014508287784959402,\n",
       "                                                  0.0016297508346206436,\n",
       "                                                  0.0018307382802953678,\n",
       "                                                  0.0020565123083486517,\n",
       "                                                  0.002310129700083158, ...],\n",
       "                                        &#x27;kernel&#x27;: [&#x27;poly&#x27;, &#x27;sigmoid&#x27;]},\n",
       "                   random_state=42, scoring=&#x27;accuracy&#x27;, verbose=4)</pre></div> </div></div><div class=\"sk-parallel\"><div class=\"sk-parallel-item\"><div class=\"sk-item\"><div class=\"sk-label-container\"><div class=\"sk-label fitted sk-toggleable\"><input class=\"sk-toggleable__control sk-hidden--visually\" id=\"sk-estimator-id-2\" type=\"checkbox\" ><label for=\"sk-estimator-id-2\" class=\"sk-toggleable__label fitted sk-toggleable__label-arrow fitted\">best_estimator_: SVC</label><div class=\"sk-toggleable__content fitted\"><pre>SVC(C=0.0026560877829466868, coef0=-0.050505050505050386,\n",
       "    gamma=7.054802310718645, kernel=&#x27;poly&#x27;)</pre></div> </div></div><div class=\"sk-serial\"><div class=\"sk-item\"><div class=\"sk-estimator fitted sk-toggleable\"><input class=\"sk-toggleable__control sk-hidden--visually\" id=\"sk-estimator-id-3\" type=\"checkbox\" ><label for=\"sk-estimator-id-3\" class=\"sk-toggleable__label fitted sk-toggleable__label-arrow fitted\">&nbsp;SVC<a class=\"sk-estimator-doc-link fitted\" rel=\"noreferrer\" target=\"_blank\" href=\"https://scikit-learn.org/1.5/modules/generated/sklearn.svm.SVC.html\">?<span>Documentation for SVC</span></a></label><div class=\"sk-toggleable__content fitted\"><pre>SVC(C=0.0026560877829466868, coef0=-0.050505050505050386,\n",
       "    gamma=7.054802310718645, kernel=&#x27;poly&#x27;)</pre></div> </div></div></div></div></div></div></div></div></div>"
      ],
      "text/plain": [
       "RandomizedSearchCV(cv=4, estimator=SVC(), n_iter=50, n_jobs=-1,\n",
       "                   param_distributions={'C': array([1.00000000e-03, 1.14975700e-03, 1.32194115e-03, 1.51991108e-03,\n",
       "       1.74752840e-03, 2.00923300e-03, 2.31012970e-03, 2.65608778e-03,\n",
       "       3.05385551e-03, 3.51119173e-03, 4.03701726e-03, 4.64158883e-03,\n",
       "       5.33669923e-03, 6.13590727e-03, 7.05480231e-03, 8.11130831e-03,\n",
       "       9.32603347e-03, 1.0...\n",
       "                                                  0.0005722367659350221,\n",
       "                                                  0.0006428073117284319,\n",
       "                                                  0.0007220809018385464,\n",
       "                                                  0.0008111308307896872,\n",
       "                                                  0.0009111627561154887,\n",
       "                                                  0.001023531021899027,\n",
       "                                                  0.0011497569953977356,\n",
       "                                                  0.001291549665014884,\n",
       "                                                  0.0014508287784959402,\n",
       "                                                  0.0016297508346206436,\n",
       "                                                  0.0018307382802953678,\n",
       "                                                  0.0020565123083486517,\n",
       "                                                  0.002310129700083158, ...],\n",
       "                                        'kernel': ['poly', 'sigmoid']},\n",
       "                   random_state=42, scoring='accuracy', verbose=4)"
      ]
     },
     "execution_count": 20,
     "metadata": {},
     "output_type": "execute_result"
    }
   ],
   "source": [
    "random_search_4 = RandomizedSearchCV(\n",
    "    SVC(),\n",
    "    param_distributions=param_distributions,\n",
    "    n_iter=50,\n",
    "    scoring=\"accuracy\",\n",
    "    cv=4,\n",
    "    verbose=4,\n",
    "    random_state=42,\n",
    "    n_jobs=-1,\n",
    ")\n",
    "\n",
    "random_search_4.fit(X_train, y_train)"
   ]
  },
  {
   "cell_type": "code",
   "execution_count": 21,
   "metadata": {},
   "outputs": [
    {
     "name": "stdout",
     "output_type": "stream",
     "text": [
      "\n",
      "Best Parameters: {'kernel': 'poly', 'gamma': 7.054802310718645, 'degree': 3, 'coef0': -0.050505050505050386, 'class_weight': None, 'C': 0.0026560877829466868}\n",
      "\n",
      "Best Score: 0.6867000556483027\n"
     ]
    }
   ],
   "source": [
    "best_params = random_search_4.best_params_\n",
    "best_score = random_search_4.best_score_\n",
    "best_model = random_search_4.best_estimator_\n",
    "\n",
    "print(\"\\nBest Parameters:\", best_params)\n",
    "print(\"\\nBest Score:\", best_score)"
   ]
  },
  {
   "cell_type": "markdown",
   "metadata": {},
   "source": [
    "Best Parameters: \n",
    "{'kernel': 'poly',\n",
    "\n",
    "'gamma': 7.054802310718645,\n",
    "\n",
    "'degree': 3,\n",
    "\n",
    "'coef0': -0.050505050505050386,\n",
    "\n",
    "'class_weight': None,\n",
    "\n",
    "'C': 0.0026560877829466868}\n",
    "\n",
    "Best Score: 0.6867000556483027"
   ]
  },
  {
   "cell_type": "code",
   "execution_count": 22,
   "metadata": {},
   "outputs": [],
   "source": [
    "# TODO: use best metrics to predict on test set\n",
    "svc = SVC()\n",
    "svc.set_params(**best_params)\n",
    "svc.fit(X_train, y_train)\n",
    "y_pred = svc.predict(X_test)"
   ]
  },
  {
   "cell_type": "code",
   "execution_count": 23,
   "metadata": {},
   "outputs": [
    {
     "data": {
      "text/plain": [
       "0.676214196762142"
      ]
     },
     "execution_count": 23,
     "metadata": {},
     "output_type": "execute_result"
    }
   ],
   "source": [
    "accuracy_score(y_test, y_pred)"
   ]
  },
  {
   "cell_type": "markdown",
   "metadata": {},
   "source": [
    "Test Accuracy: 0.676214196762142"
   ]
  },
  {
   "cell_type": "code",
   "execution_count": 26,
   "metadata": {},
   "outputs": [
    {
     "name": "stdout",
     "output_type": "stream",
     "text": [
      "              precision    recall  f1-score   support\n",
      "\n",
      "      action       0.68      0.71      0.69       106\n",
      "   animation       0.80      0.80      0.80        54\n",
      "      comedy       0.56      0.57      0.57       119\n",
      "       crime       0.65      0.59      0.62        54\n",
      "       drama       0.59      0.62      0.60       167\n",
      "      horror       0.83      0.83      0.83       110\n",
      "     romance       0.53      0.47      0.50        89\n",
      "      sci-fi       0.62      0.48      0.54        21\n",
      "     western       0.90      0.94      0.92        83\n",
      "\n",
      "    accuracy                           0.68       803\n",
      "   macro avg       0.68      0.67      0.67       803\n",
      "weighted avg       0.67      0.68      0.67       803\n",
      "\n"
     ]
    }
   ],
   "source": [
    "print(classification_report(y_test, y_pred, target_names=label_encoder.classes_))"
   ]
  },
  {
   "cell_type": "code",
   "execution_count": 29,
   "metadata": {},
   "outputs": [
    {
     "data": {
      "image/png": "[encoded data removed]",
      "text/plain": [
       "<Figure size 800x600 with 2 Axes>"
      ]
     },
     "metadata": {},
     "output_type": "display_data"
    }
   ],
   "source": [
    "cm = cm = confusion_matrix(y_test, y_pred)\n",
    "plot_confusion_matrix(cm, decoded_class_names)"
   ]
  },
  {
   "cell_type": "markdown",
   "metadata": {},
   "source": [
    "### Scenario 5: HistGradientBoosting w/ Embeddings"
   ]
  },
  {
   "cell_type": "code",
   "execution_count": null,
   "metadata": {},
   "outputs": [],
   "source": [
    "param_distributions = {\n",
    "    \"learning_rate\": np.logspace(-3, 0, 100),\n",
    "    \"max_iter\": np.arange(100, 500, 50),\n",
    "    \"max_depth\": np.arange(3, 15),\n",
    "    \"min_samples_leaf\": np.arange(1, 51, 5),\n",
    "    \"max_leaf_nodes\": np.arange(10, 301, 10),\n",
    "    \"l2_regularization\": np.logspace(-4, 0, 100),\n",
    "    \"scoring\": [\"accuracy\"],\n",
    "}"
   ]
  },
  {
   "cell_type": "code",
   "execution_count": null,
   "metadata": {},
   "outputs": [],
   "source": [
    "random_search_5 = RandomizedSearchCV(\n",
    "    HistGradientBoostingClassifier(),\n",
    "    param_distributions=param_distributions,\n",
    "    n_iter=50,\n",
    "    scoring=\"accuracy\",\n",
    "    cv=4,\n",
    "    verbose=4,\n",
    "    random_state=42,\n",
    "    n_jobs=-1,\n",
    ")\n",
    "\n",
    "random_search_5.fit(X_train, y_train)"
   ]
  },
  {
   "cell_type": "code",
   "execution_count": null,
   "metadata": {},
   "outputs": [],
   "source": [
    "best_params = random_search_5.best_params_\n",
    "best_score = random_search_5.best_score_\n",
    "best_model = random_search_5.best_estimator_\n",
    "\n",
    "print(\"\\nBest Parameters:\", best_params)\n",
    "print(\"\\nBest Score:\", best_score)"
   ]
  },
  {
   "cell_type": "markdown",
   "metadata": {},
   "source": [
    "Best parameters found: {\n",
    "    \n",
    "    'scoring': 'accuracy', \n",
    "\n",
    "    'min_samples_leaf': 6, \n",
    "\n",
    "    'max_leaf_nodes': 50, \n",
    "\n",
    "    'max_iter': 350, \n",
    "\n",
    "    'max_depth': 6, \n",
    "\n",
    "    'learning_rate': 0.1, \n",
    "\n",
    "    'l2_regularization': 0.0004430621457583882, \n",
    "    }\n",
    "Best score found: 0.671883263271661"
   ]
  },
  {
   "cell_type": "code",
   "execution_count": null,
   "metadata": {},
   "outputs": [],
   "source": [
    "# TODO: use best metrics to predict on test set\n",
    "hgb = HistGradientBoostingClassifier()\n",
    "hgb.set_params(**best_params)\n",
    "hgb.fit(X_train, y_train)\n",
    "y_pred = hgb.predict(X_test)"
   ]
  },
  {
   "cell_type": "code",
   "execution_count": null,
   "metadata": {},
   "outputs": [],
   "source": [
    "accuracy_score(y_test, y_pred)"
   ]
  },
  {
   "cell_type": "code",
   "execution_count": null,
   "metadata": {},
   "outputs": [],
   "source": [
    "print(classification_report(y_test, y_pred, target_names=label_encoder.classes_))"
   ]
  },
  {
   "cell_type": "code",
   "execution_count": null,
   "metadata": {},
   "outputs": [],
   "source": [
    "cm = confusion_matrix(y_test, y_pred)\n",
    "plot_confusion_matrix(cm, decoded_class_names)"
   ]
  },
  {
   "cell_type": "markdown",
   "metadata": {},
   "source": [
    "# Predict Test Set"
   ]
  },
  {
   "cell_type": "code",
   "execution_count": null,
   "metadata": {},
   "outputs": [],
   "source": [
    "path_test = \"data/raw/test_no_labels.txt\"\n",
    "columns_test = [\"title\", \"from\", \"director\", \"description\"]\n",
    "\n",
    "df_no_labels_test = read_data(path_test, columns_test)\n",
    "df_no_labels_test.head(3)"
   ]
  },
  {
   "cell_type": "code",
   "execution_count": null,
   "metadata": {},
   "outputs": [],
   "source": [
    "path_train = \"data/raw/train.txt\"\n",
    "columns = [\"title\", \"from\", \"genre\", \"director\", \"description\"]\n",
    "\n",
    "df = read_data(path, columns)\n",
    "df.head(3)"
   ]
  },
  {
   "cell_type": "code",
   "execution_count": null,
   "metadata": {},
   "outputs": [],
   "source": [
    "train_description = df[\"description\"].dropna().unique()\n",
    "test_description = df_no_labels_test[\"description\"].dropna().unique()\n",
    "\n",
    "overlapping_descriptions = set(train_description).intersection(set(test_description))\n",
    "print(f\"{len(overlapping_descriptions)} overlapping descriptions found.\")"
   ]
  },
  {
   "cell_type": "code",
   "execution_count": null,
   "metadata": {},
   "outputs": [],
   "source": [
    "rule_based_dict = df[df[\"description\"].isin(overlapping_descriptions)].set_index(\"description\")[\"genre\"].to_dict()\n",
    "\n",
    "\n",
    "def rule_based_prediction(description):\n",
    "    if description in rule_based_dict:\n",
    "        return rule_based_dict[description]\n",
    "    return None\n",
    "\n",
    "\n",
    "df_no_labels_test[\"rule_based_prediction\"] = df_no_labels_test[\"description\"].apply(rule_based_prediction)\n",
    "\n",
    "df_no_labels_test[df_no_labels_test[\"description\"].isin(overlapping_descriptions)].head(15)"
   ]
  },
  {
   "cell_type": "code",
   "execution_count": null,
   "metadata": {},
   "outputs": [],
   "source": [
    "output_path = \"data/processed/processed_embeddings_no_labels_test.csv\"\n",
    "process_and_save_in_chunks(df_no_labels_test, \"description\", model, chunk_size=300, output_path=output_path)"
   ]
  }
 ],
 "metadata": {
  "kernelspec": {
   "display_name": "venv",
   "language": "python",
   "name": "python3"
  },
  "language_info": {
   "codemirror_mode": {
    "name": "ipython",
    "version": 3
   },
   "file_extension": ".py",
   "mimetype": "text/x-python",
   "name": "python",
   "nbconvert_exporter": "python",
   "pygments_lexer": "ipython3",
   "version": "3.11.9"
  }
 },
 "nbformat": 4,
 "nbformat_minor": 2
}
