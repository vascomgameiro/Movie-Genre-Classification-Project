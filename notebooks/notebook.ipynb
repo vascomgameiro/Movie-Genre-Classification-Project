{
 "cells": [
  {
   "cell_type": "code",
   "execution_count": null,
   "metadata": {},
   "outputs": [],
   "source": [
    "%load_ext autoreload\n",
    "\n",
    "import sys\n",
    "import os\n",
    "\n",
    "project_root = 'C:/Users/vasco/repos/Natural-Language'\n",
    "if project_root not in sys.path:\n",
    "    sys.path.append(project_root)\n",
    "os.chdir(project_root)\n",
    "\n",
    "print(\"Current working directory:\", os.getcwd())"
   ]
  },
  {
   "cell_type": "code",
   "execution_count": null,
   "metadata": {},
   "outputs": [],
   "source": [
    "%autoreload 2\n",
    "import nltk\n",
    "import pandas as pd\n",
    "\n",
    "nltk.download('punkt')\n",
    "nltk.download('stopwords')"
   ]
  },
  {
   "cell_type": "code",
   "execution_count": null,
   "metadata": {},
   "outputs": [],
   "source": [
    "%autoreload 2\n",
    "from src.dataset import get_data\n",
    "\n",
    "path = 'data/raw/train.txt'\n",
    "columns = ['Title', 'From', 'Genre', 'Director', 'Description']\n",
    "    \n",
    "df = get_data(path, columns)\n",
    "df.head(3)"
   ]
  },
  {
   "cell_type": "code",
   "execution_count": null,
   "metadata": {},
   "outputs": [],
   "source": [
    "%autoreload 2\n",
    "print(df.info())\n",
    "print('*'*20)\n",
    "repeated_titles = df['Title'].value_counts()[df['Title'].value_counts() > 1].head(5)\n",
    "print(repeated_titles)\n",
    "print('*'*20)\n",
    "popular_directors = df['Director'].value_counts().head(5)\n",
    "print(popular_directors)\n",
    "print('*'*20)\n",
    "print(df['Language'].value_counts())"
   ]
  },
  {
   "cell_type": "markdown",
   "metadata": {},
   "source": [
    "- Duplicated Movies (Check titles, check Description)\n",
    "- Unknowns in Director\n",
    "- Weird symbols in some titles\n"
   ]
  },
  {
   "cell_type": "code",
   "execution_count": null,
   "metadata": {},
   "outputs": [],
   "source": [
    "import matplotlib.pyplot as plt\n",
    "import seaborn as sns\n",
    "\n",
    "# Set plot styles\n",
    "sns.set(style=\"whitegrid\")\n",
    "\n",
    "# 1. Distribution of Genres\n",
    "plt.figure(figsize=(12, 6))\n",
    "sns.countplot(y='Genre', data=df, order=df['Genre'].value_counts().index)\n",
    "plt.title('Distribution of Movie Genres')\n",
    "plt.xlabel('Count')\n",
    "plt.ylabel('Genre')\n",
    "plt.show()\n",
    "\n",
    "# 2. Distribution of Directors (Top 10)\n",
    "plt.figure(figsize=(12, 6))\n",
    "top_directors = df['Director'].value_counts().head(10)\n",
    "sns.barplot(x=top_directors.values, y=top_directors.index)\n",
    "plt.title('Top 10 Most Popular Directors')\n",
    "plt.xlabel('Number of Movies')\n",
    "plt.ylabel('Director')\n",
    "plt.show()\n",
    "\n",
    "# 3. Genre vs Director Count (Top 10 Directors)\n",
    "top_10_directors = df['Director'].value_counts().head(10).index\n",
    "filtered_df = df[df['Director'].isin(top_10_directors)]\n",
    "\n",
    "plt.figure(figsize=(14, 7))\n",
    "sns.countplot(y='Director', hue='Genre', data=filtered_df)\n",
    "plt.title('Top 10 Directors by Genre')\n",
    "plt.xlabel('Number of Movies')\n",
    "plt.ylabel('Director')\n",
    "plt.legend(loc='upper right')\n",
    "plt.show()"
   ]
  },
  {
   "cell_type": "code",
   "execution_count": 10,
   "metadata": {},
   "outputs": [],
   "source": [
    "%autoreload 2\n",
    "import numpy as np\n",
    "from src.dataset import preprocess_sentence\n",
    "\n",
    "df_copy = get_data(path, columns)\n",
    "df_copy.loc[:, 'Director'] = df_copy.loc[:, 'Director'].replace('Unknown', np.nan)\n",
    "df_copy['Title'] = df_copy['Title'].apply(preprocess_sentence)\n",
    "df_copy['Description'] = df_copy['Description'].apply(preprocess_sentence)"
   ]
  },
  {
   "cell_type": "markdown",
   "metadata": {},
   "source": [
    "\\***\\*\\*\\*\\*\\*** Column Transformer (Title, Description)\n",
    "\n",
    "-> coluna\n",
    "-> count matrix\n",
    "-> TfidfTransformer\n",
    "-> StandardScaler ( - media)\n",
    "-> Sparse PCA / UMAP\n",
    "\n",
    "<!-- -> coluna\n",
    "-> embedding\n",
    "-> StandardScaler ( - media)\n",
    "-> Sparce PCA / UMAP -->\n",
    "\n",
    "Df\n",
    "id title_pc1 titl_pc2 desc_pc1 desc_pc2 ..... Realizador Main_Language 2nd_Language Y(Genre)\n",
    "1 5345 23432 2345 234 jose English American\n",
    "\n",
    "-> SVM , XGBoost, ...\n",
    "\n",
    "Outlier\n"
   ]
  }
 ],
 "metadata": {
  "kernelspec": {
   "display_name": "venv",
   "language": "python",
   "name": "python3"
  },
  "language_info": {
   "codemirror_mode": {
    "name": "ipython",
    "version": 3
   },
   "file_extension": ".py",
   "mimetype": "text/x-python",
   "name": "python",
   "nbconvert_exporter": "python",
   "pygments_lexer": "ipython3",
   "version": "3.11.9"
  }
 },
 "nbformat": 4,
 "nbformat_minor": 2
}
