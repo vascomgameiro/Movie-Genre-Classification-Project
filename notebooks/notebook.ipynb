{
 "cells": [
  {
   "cell_type": "markdown",
   "metadata": {},
   "source": [
    "# Configurate Session\n"
   ]
  },
  {
   "cell_type": "code",
   "execution_count": null,
   "metadata": {},
   "outputs": [],
   "source": [
    "%load_ext autoreload\n",
    "\n",
    "import os\n",
    "import sys\n",
    "\n",
    "project_root = \"C:/Users/vasco/repos/Natural-Language\"\n",
    "if project_root not in sys.path:\n",
    "    sys.path.append(project_root)\n",
    "os.chdir(project_root)\n",
    "\n",
    "print(\"Current working directory:\", os.getcwd())"
   ]
  },
  {
   "cell_type": "markdown",
   "metadata": {},
   "source": [
    "# Load Data\n"
   ]
  },
  {
   "cell_type": "code",
   "execution_count": null,
   "metadata": {},
   "outputs": [],
   "source": [
    "%autoreload 2\n",
    "from src.dataset import read_data\n",
    "\n",
    "path = \"data/raw/train.txt\"\n",
    "columns = [\"title\", \"from\", \"genre\", \"director\", \"description\"]\n",
    "\n",
    "df = read_data(path, columns)\n",
    "df.head(3)"
   ]
  },
  {
   "cell_type": "markdown",
   "metadata": {},
   "source": [
    "# EDA\n"
   ]
  },
  {
   "cell_type": "markdown",
   "metadata": {},
   "source": [
    "### First Impressions\n"
   ]
  },
  {
   "cell_type": "code",
   "execution_count": null,
   "metadata": {},
   "outputs": [],
   "source": [
    "%autoreload 2\n",
    "print(df.info())\n",
    "print(\"*\" * 20)\n",
    "repeated_titles = df[\"title\"].value_counts()[df[\"title\"].value_counts() > 1].head(5)\n",
    "print(repeated_titles)\n",
    "print(\"*\" * 20)\n",
    "popular_directors = df[\"director\"].value_counts().head(5)\n",
    "print(popular_directors)\n",
    "print(\"*\" * 20)\n",
    "print(df[\"from\"].value_counts().head(5))\n",
    "print(\"*\" * 20)\n",
    "print(\"Number of duplicates:\", df.duplicated().sum())"
   ]
  },
  {
   "cell_type": "markdown",
   "metadata": {},
   "source": [
    "### Drop Duplicates\n"
   ]
  },
  {
   "cell_type": "code",
   "execution_count": null,
   "metadata": {},
   "outputs": [],
   "source": [
    "df[df.duplicated(keep=False)].sort_values(\"title\").head(20)"
   ]
  },
  {
   "cell_type": "code",
   "execution_count": 6,
   "metadata": {
    "vscode": {
     "languageId": "markdown"
    }
   },
   "outputs": [],
   "source": [
    "df.drop_duplicates(inplace=True)\n"
   ]
  },
  {
   "cell_type": "markdown",
   "metadata": {},
   "source": [
    "### Plots\n"
   ]
  },
  {
   "cell_type": "code",
   "execution_count": null,
   "metadata": {},
   "outputs": [],
   "source": [
    "%autoreload 2\n",
    "\n",
    "from src.plots import plot_movie_data\n",
    "\n",
    "plot_movie_data(df)"
   ]
  },
  {
   "cell_type": "code",
   "execution_count": null,
   "metadata": {},
   "outputs": [],
   "source": [
    "%autoreload 2\n",
    "\n",
    "from src.plots import plot_stopword_frequency\n",
    "\n",
    "plot_stopword_frequency(df, \"description\")"
   ]
  },
  {
   "cell_type": "code",
   "execution_count": null,
   "metadata": {},
   "outputs": [],
   "source": [
    "plot_stopword_frequency(df, \"title\")"
   ]
  },
  {
   "cell_type": "markdown",
   "metadata": {},
   "source": [
    "### Duplicate Candidates\n"
   ]
  },
  {
   "cell_type": "code",
   "execution_count": null,
   "metadata": {},
   "outputs": [],
   "source": [
    "%autoreload 2\n",
    "\n",
    "from src.dataset import filter_duplicate_descriptions\n",
    "\n",
    "filter_duplicate_descriptions(df, \"description\", \"title\").head(10)"
   ]
  },
  {
   "cell_type": "code",
   "execution_count": 9,
   "metadata": {},
   "outputs": [],
   "source": [
    "%autoreload 2\n",
    "from src.dataset import find_similar_descriptions\n",
    "\n",
    "similar_pairs = find_similar_descriptions(df, \"description\")"
   ]
  },
  {
   "cell_type": "code",
   "execution_count": null,
   "metadata": {},
   "outputs": [],
   "source": [
    "%autoreload 2\n",
    "from src.dataset import print_differences\n",
    "\n",
    "print_differences(df, similar_pairs, \"title\")\n",
    "print(\"\\n\")\n",
    "print_differences(df, similar_pairs, \"director\")\n",
    "print(\"\\n\")\n",
    "print_differences(df, similar_pairs, \"genre\")\n",
    "print(\"\\n\")\n",
    "print_differences(df, similar_pairs, \"from\")"
   ]
  },
  {
   "cell_type": "markdown",
   "metadata": {},
   "source": [
    "### Process Directors (NEEDS WORK!)\n"
   ]
  },
  {
   "cell_type": "code",
   "execution_count": null,
   "metadata": {},
   "outputs": [],
   "source": [
    "import re\n",
    "from collections import defaultdict\n",
    "\n",
    "import pandas as pd\n",
    "\n",
    "\n",
    "def clean_director_name(name: str):\n",
    "    name = name.lower().replace(\" \", \"\").replace(\"-\", \"\")\n",
    "    return re.sub(r\"\\.\", \"\", name)\n",
    "\n",
    "\n",
    "def create_name_map(df: pd.DataFrame):\n",
    "    name_map = defaultdict(set)\n",
    "\n",
    "    for i, row in df.iterrows():\n",
    "        director_list = [name.strip() for name in row[\"director\"].split(\",\")]\n",
    "\n",
    "        for director in director_list:\n",
    "            cleaned_name = clean_director_name(director)\n",
    "            name_map[cleaned_name].add(director)\n",
    "\n",
    "    return name_map\n",
    "\n",
    "\n",
    "director_name_map = create_name_map(df)\n",
    "filtered_name_map = {key: value for key, value in director_name_map.items() if len(value) > 1}\n",
    "\n",
    "\n",
    "print(\"Directors with more than 1 value:\")\n",
    "filtered_name_map"
   ]
  },
  {
   "cell_type": "code",
   "execution_count": 5,
   "metadata": {},
   "outputs": [],
   "source": [
    "import numpy as np\n",
    "\n",
    "df.loc[df[\"Director\"] == \"3 directors\" \"Director\"] = np.nan\n",
    "df.loc[:, \"director\"] = df.loc[:, \"director\"].replace(\"Unknown\", np.nan)"
   ]
  },
  {
   "cell_type": "markdown",
   "metadata": {},
   "source": [
    "# Preprocessing (NEEDS WORK!)\n"
   ]
  },
  {
   "cell_type": "code",
   "execution_count": 22,
   "metadata": {},
   "outputs": [],
   "source": [
    "%autoreload 2\n",
    "from src.dataset import lemmatize_tokens, extract_noun_phrases, word_tokenize\n",
    "import string\n",
    "\n",
    "\n",
    "def preprocess_sentence(sentence: str) -> str:\n",
    "    \"\"\"Preprocess the sentence by tokenizing, lemmatizing, and joining noun phrases.\"\"\"\n",
    "    cleaned_sentence = sentence.translate(str.maketrans(\"\", \"\", string.punctuation)).lower()\n",
    "    tokens = word_tokenize(cleaned_sentence)\n",
    "    noun_phrases = extract_noun_phrases(sentence)\n",
    "    noun_phrases_joined = [\"\".join(phrase.split()) for phrase in noun_phrases]\n",
    "    lemmatized_tokens = lemmatize_tokens(tokens)\n",
    "    combined_tokens = list(set(lemmatized_tokens + noun_phrases_joined))\n",
    "    return \" \".join(combined_tokens)\n",
    "\n",
    "\n",
    "df[\"title\"] = df[\"title\"].apply(preprocess_sentence)\n",
    "df[\"description\"] = df[\"description\"].apply(preprocess_sentence)"
   ]
  },
  {
   "cell_type": "markdown",
   "metadata": {},
   "source": [
    "# Feature Engineering\n"
   ]
  },
  {
   "cell_type": "code",
   "execution_count": 21,
   "metadata": {},
   "outputs": [],
   "source": [
    "df[\"region\"] = df[\"from\"].map(\n",
    "    {\n",
    "        \"American\": \"Western\",\n",
    "        \"British\": \"Western\",\n",
    "        \"Canadian\": \"Western\",\n",
    "        \"Australian\": \"Western\",\n",
    "        \"Bollywood\": \"South Asian\",\n",
    "        \"Telugu\": \"South Asian\",\n",
    "        \"Tamil\": \"South Asian\",\n",
    "        \"Malayalam\": \"South Asian\",\n",
    "        \"Bengali\": \"South Asian\",\n",
    "        \"Kannada\": \"South Asian\",\n",
    "        \"Marathi\": \"South Asian\",\n",
    "        \"Punjabi\": \"South Asian\",\n",
    "        \"Assamese\": \"South Asian\",\n",
    "        \"Chinese\": \"East Asian\",\n",
    "        \"Japanese\": \"East Asian\",\n",
    "        \"South_Korean\": \"East Asian\",\n",
    "        \"Hong Kong\": \"East Asian\",\n",
    "        \"Filipino\": \"Southeast Asian\",\n",
    "        \"Bangladeshi\": \"South Asian\",\n",
    "        \"Russian\": \"European\",\n",
    "        \"Turkish\": \"Middle Eastern\",\n",
    "        \"Egyptian\": \"Middle Eastern\",\n",
    "        \"Malaysian\": \"Southeast Asian\",\n",
    "    }\n",
    ")"
   ]
  },
  {
   "cell_type": "markdown",
   "metadata": {},
   "source": [
    "# Feature Selection\n"
   ]
  },
  {
   "cell_type": "code",
   "execution_count": null,
   "metadata": {},
   "outputs": [],
   "source": [
    "%autoreload 2\n",
    "from src.logratioanalysis import plot_scree_subplots_for_genres\n",
    "\n",
    "plot_scree_subplots_for_genres(df, \"description\", \"genre\")"
   ]
  },
  {
   "cell_type": "markdown",
   "metadata": {},
   "source": [
    "# Modelling\n"
   ]
  },
  {
   "cell_type": "code",
   "execution_count": null,
   "metadata": {},
   "outputs": [],
   "source": [
    "%autoreload 2\n",
    "from sklearn.preprocessing import LabelEncoder\n",
    "\n",
    "label_encoder = LabelEncoder()\n",
    "df[\"genre\"] = label_encoder.fit_transform(df[\"genre\"])\n",
    "\n",
    "X_train = df.drop(\"genre\", axis=1)\n",
    "y_train = df[\"genre\"]"
   ]
  },
  {
   "cell_type": "code",
   "execution_count": null,
   "metadata": {},
   "outputs": [],
   "source": [
    "%autoreload 2\n",
    "from mlxtend.feature_selection import ColumnSelector\n",
    "from sklearn.decomposition import TruncatedSVD\n",
    "from sklearn.feature_extraction.text import TfidfVectorizer\n",
    "from sklearn.pipeline import make_pipeline, make_union\n",
    "from sklearn.preprocessing import OneHotEncoder, StandardScaler\n",
    "from sklearn.ensemble import HistGradientBoostingClassifier\n",
    "from skrub import SelectCols, SimilarityEncoder\n",
    "\n",
    "text_pipeline = make_union(\n",
    "    make_pipeline(\n",
    "        ColumnSelector(\"title\", drop_axis=True),\n",
    "        TfidfVectorizer(ngram_range=(2, 4)),\n",
    "        StandardScaler(with_mean=False),\n",
    "        TruncatedSVD(),\n",
    "    ),\n",
    "    make_pipeline(\n",
    "        ColumnSelector(\"description\", drop_axis=True),\n",
    "        TfidfVectorizer(),\n",
    "        StandardScaler(with_mean=False),\n",
    "        TruncatedSVD(),\n",
    "    ),\n",
    "    make_pipeline(SelectCols(\"region\"), SimilarityEncoder()),\n",
    "    make_pipeline(SelectCols(\"from\"), OneHotEncoder(sparse_output=False)),\n",
    "    make_pipeline(\n",
    "        ColumnSelector(\"director\", drop_axis=True),\n",
    "        TfidfVectorizer(ngram_range=(1, 2)),  #\n",
    "        StandardScaler(with_mean=False),\n",
    "        TruncatedSVD(),\n",
    "    ),\n",
    ")\n",
    "\n",
    "pipeline = make_pipeline(text_pipeline, HistGradientBoostingClassifier())\n",
    "pipeline"
   ]
  },
  {
   "cell_type": "code",
   "execution_count": null,
   "metadata": {},
   "outputs": [],
   "source": [
    "from scipy.stats import loguniform, randint\n",
    "from sklearn.model_selection import RandomizedSearchCV\n",
    "\n",
    "\n",
    "# Update param_distributions to match HistGradientBoostingClassifier\n",
    "param_distributions = {\n",
    "    \"histgradientboostingclassifier__learning_rate\": loguniform(0.03, 0.1),\n",
    "    \"histgradientboostingclassifier__max_iter\": randint(200, 400),\n",
    "    \"histgradientboostingclassifier__max_depth\": randint(3, 7),\n",
    "    \"histgradientboostingclassifier__min_samples_leaf\": randint(80, 100),\n",
    "    \"histgradientboostingclassifier__max_leaf_nodes\": randint(100, 150),\n",
    "    \"histgradientboostingclassifier__l2_regularization\": loguniform(0.001, 0.01),\n",
    "    \"featureunion__pipeline-1__truncatedsvd__n_components\": randint(100, 200),\n",
    "    \"featureunion__pipeline-2__truncatedsvd__n_components\": randint(400, 800),\n",
    "    \"featureunion__pipeline-5__truncatedsvd__n_components\": randint(100, 200),\n",
    "}\n",
    "\n",
    "# Set up the RandomizedSearchCV with the updated parameters\n",
    "random_search = RandomizedSearchCV(\n",
    "    pipeline,\n",
    "    param_distributions=param_distributions,\n",
    "    n_iter=10,\n",
    "    cv=3,\n",
    "    scoring=\"accuracy\",\n",
    "    random_state=42,\n",
    "    verbose=4,\n",
    "    error_score=\"raise\",\n",
    ")\n",
    "\n",
    "# Fit the RandomizedSearchCV with the updated pipeline\n",
    "random_search.fit(X_train, y_train)\n",
    "\n",
    "# Get the best parameters, score, and model\n",
    "best_params = random_search.best_params_\n",
    "best_score = random_search.best_score_\n",
    "best_model = random_search.best_estimator_\n",
    "\n",
    "print(\"\\n Best Parameters:\", best_params)\n",
    "print(\"\\n Best Score:\", best_score)"
   ]
  },
  {
   "cell_type": "code",
   "execution_count": null,
   "metadata": {},
   "outputs": [],
   "source": []
  }
 ],
 "metadata": {
  "kernelspec": {
   "display_name": "venv",
   "language": "python",
   "name": "python3"
  },
  "language_info": {
   "codemirror_mode": {
    "name": "ipython",
    "version": 3
   },
   "file_extension": ".py",
   "mimetype": "text/x-python",
   "name": "python",
   "nbconvert_exporter": "python",
   "pygments_lexer": "ipython3",
   "version": "3.11.9"
  }
 },
 "nbformat": 4,
 "nbformat_minor": 2
}
