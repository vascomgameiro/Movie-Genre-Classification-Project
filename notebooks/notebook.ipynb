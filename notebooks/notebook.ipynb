{
 "cells": [
  {
   "cell_type": "markdown",
   "metadata": {},
   "source": [
    "# Configurate Session\n"
   ]
  },
  {
   "cell_type": "code",
   "execution_count": null,
   "metadata": {},
   "outputs": [],
   "source": [
    "%load_ext autoreload\n",
    "\n",
    "import os\n",
    "import sys\n",
    "\n",
    "project_root = \"C:/Users/vasco/repos/Natural-Language\"\n",
    "if project_root not in sys.path:\n",
    "    sys.path.append(project_root)\n",
    "os.chdir(project_root)\n",
    "\n",
    "print(\"Current working directory:\", os.getcwd())"
   ]
  },
  {
   "cell_type": "markdown",
   "metadata": {},
   "source": [
    "# Load Data\n"
   ]
  },
  {
   "cell_type": "code",
   "execution_count": null,
   "metadata": {},
   "outputs": [],
   "source": [
    "%autoreload 2\n",
    "from src.dataset import read_data\n",
    "\n",
    "path = \"data/raw/train.txt\"\n",
    "columns = [\"title\", \"from\", \"genre\", \"director\", \"description\"]\n",
    "\n",
    "df = read_data(path, columns)\n",
    "df.head(3)"
   ]
  },
  {
   "cell_type": "markdown",
   "metadata": {},
   "source": [
    "# EDA\n"
   ]
  },
  {
   "cell_type": "markdown",
   "metadata": {},
   "source": [
    "### First Impressions\n"
   ]
  },
  {
   "cell_type": "code",
   "execution_count": null,
   "metadata": {},
   "outputs": [],
   "source": [
    "%autoreload 2\n",
    "print(df.info())\n",
    "print(\"*\" * 20)\n",
    "repeated_titles = df[\"title\"].value_counts()[df[\"title\"].value_counts() > 1].head(5)\n",
    "print(repeated_titles)\n",
    "print(\"*\" * 20)\n",
    "popular_directors = df[\"director\"].value_counts().head(5)\n",
    "print(popular_directors)\n",
    "print(\"*\" * 20)\n",
    "print(df[\"from\"].value_counts().head(5))\n",
    "print(\"*\" * 20)\n",
    "print(\"Number of duplicates:\", df.duplicated().sum())"
   ]
  },
  {
   "cell_type": "markdown",
   "metadata": {},
   "source": [
    "### Drop Duplicates\n"
   ]
  },
  {
   "cell_type": "code",
   "execution_count": null,
   "metadata": {},
   "outputs": [],
   "source": [
    "df[df.duplicated(keep=False)].sort_values(\"title\").head(20)"
   ]
  },
  {
   "cell_type": "code",
   "execution_count": 5,
   "metadata": {},
   "outputs": [],
   "source": [
    "df.drop_duplicates(inplace=True)"
   ]
  },
  {
   "cell_type": "markdown",
   "metadata": {},
   "source": [
    "### Plots\n"
   ]
  },
  {
   "cell_type": "code",
   "execution_count": null,
   "metadata": {},
   "outputs": [],
   "source": [
    "%autoreload 2\n",
    "\n",
    "from src.plots import plot_movie_data\n",
    "\n",
    "plot_movie_data(df)"
   ]
  },
  {
   "cell_type": "code",
   "execution_count": null,
   "metadata": {},
   "outputs": [],
   "source": [
    "%autoreload 2\n",
    "\n",
    "from src.plots import plot_stopword_frequency\n",
    "\n",
    "plot_stopword_frequency(df, \"description\")"
   ]
  },
  {
   "cell_type": "code",
   "execution_count": null,
   "metadata": {},
   "outputs": [],
   "source": [
    "plot_stopword_frequency(df, \"title\")"
   ]
  },
  {
   "cell_type": "code",
   "execution_count": 9,
   "metadata": {},
   "outputs": [],
   "source": [
    "%autoreload 2\n",
    "from src.plots import get_text_statistics\n",
    "stats = get_text_statistics(df, 'description')"
   ]
  },
  {
   "cell_type": "code",
   "execution_count": null,
   "metadata": {},
   "outputs": [],
   "source": [
    "%autoreload 2\n",
    "from src.plots import plot_histograms\n",
    "plot_histograms(stats)"
   ]
  },
  {
   "cell_type": "code",
   "execution_count": null,
   "metadata": {},
   "outputs": [],
   "source": [
    "%autoreload 2\n",
    "from src.plots import plot_boxplots\n",
    "plot_boxplots(stats)"
   ]
  },
  {
   "cell_type": "code",
   "execution_count": null,
   "metadata": {},
   "outputs": [],
   "source": [
    "%autoreload 2\n",
    "from sklearn.preprocessing import StandardScaler\n",
    "from src.plots import plot_correlation_matrix, apply_pca\n",
    "# Standardize the data outside the PCA function\n",
    "scaler = StandardScaler()\n",
    "scaled_data = scaler.fit_transform(stats)\n",
    "\n",
    "plot_correlation_matrix(stats)\n",
    "pca_df, pca = apply_pca(scaled_data, df['genre'])"
   ]
  },
  {
   "cell_type": "markdown",
   "metadata": {},
   "source": [
    "### Duplicate Candidates\n"
   ]
  },
  {
   "cell_type": "code",
   "execution_count": null,
   "metadata": {},
   "outputs": [],
   "source": [
    "%autoreload 2\n",
    "\n",
    "from src.dataset import filter_duplicate_descriptions\n",
    "\n",
    "filter_duplicate_descriptions(df, \"description\", \"title\").head(10)"
   ]
  },
  {
   "cell_type": "code",
   "execution_count": 14,
   "metadata": {},
   "outputs": [],
   "source": [
    "%autoreload 2\n",
    "from src.dataset import find_similar_descriptions\n",
    "\n",
    "similar_pairs = find_similar_descriptions(df, \"description\")"
   ]
  },
  {
   "cell_type": "code",
   "execution_count": null,
   "metadata": {},
   "outputs": [],
   "source": [
    "%autoreload 2\n",
    "from src.dataset import print_differences\n",
    "\n",
    "print_differences(df, similar_pairs, \"title\")\n",
    "print(\"\\n\")\n",
    "print_differences(df, similar_pairs, \"director\")\n",
    "print(\"\\n\")\n",
    "print_differences(df, similar_pairs, \"genre\")\n",
    "print(\"\\n\")\n",
    "print_differences(df, similar_pairs, \"from\")"
   ]
  },
  {
   "cell_type": "markdown",
   "metadata": {},
   "source": [
    "### Candidate Duplicates"
   ]
  },
  {
   "cell_type": "code",
   "execution_count": 29,
   "metadata": {},
   "outputs": [],
   "source": [
    "import pandas as pd\n",
    "import re\n",
    "from rapidfuzz import fuzz, process  # Using rapidfuzz for fast fuzzy matching\n",
    "import unicodedata\n",
    "\n",
    "\n",
    "def preprocess_and_find_merge_candidates(df, director_column, threshold=85):\n",
    "    \"\"\"\n",
    "    Preprocesses director names and finds candidates for merging based on fuzzy matching.\n",
    "\n",
    "    Parameters:\n",
    "    df (pd.DataFrame): The original DataFrame containing director names.\n",
    "    director_column (str): The column name containing the director names.\n",
    "    threshold (int): Similarity score threshold for fuzzy matching (default: 85).\n",
    "\n",
    "    Returns:\n",
    "    pd.DataFrame: A DataFrame with potential merge candidates based on the similarity score,\n",
    "                  including the original director names.\n",
    "    \"\"\"\n",
    "\n",
    "    # Step 1: Preprocess the names (lowercase, normalize, and strip extra spaces)\n",
    "    def preprocess_name(name):\n",
    "        # Normalize and remove accents\n",
    "        name = unicodedata.normalize(\"NFKD\", name).encode(\"ascii\", \"ignore\").decode(\"utf-8\")\n",
    "        # Remove extra spaces and commas, convert to lowercase\n",
    "        name = re.sub(r\"\\s+\", \" \", name.strip())  # Replace multiple spaces with single space\n",
    "        name = re.sub(r\"[^\\w\\s,]\", \"\", name)  # Remove special characters, keep commas\n",
    "\n",
    "        # Remove single or double initials (e.g., \"M.\", \"R A\", \"S.\")\n",
    "        name = re.sub(r\"\\b(?:[A-Z](?:\\.|\\s)){1,2}\\b\", \"\", name)  # Matches 1 or 2 initials with/without period\n",
    "\n",
    "        return name.lower()\n",
    "\n",
    "    # Step 2: Preprocess and split multiple names in the column\n",
    "    df_temp = df.copy()  # Create a copy of the DataFrame to avoid modifying the original\n",
    "    df_temp[\"processed_name\"] = df_temp[director_column].apply(preprocess_name)\n",
    "    df_temp[\"split_names\"] = df_temp[\"processed_name\"].apply(lambda x: x.split(\",\"))\n",
    "\n",
    "    # Track the original names before exploding\n",
    "    df_temp[\"original_name\"] = df[director_column]\n",
    "\n",
    "    # Explode the DataFrame so that each name is on a separate row\n",
    "    df_exploded = df_temp.explode(\"split_names\")\n",
    "    df_exploded[\"split_names\"] = df_exploded[\"split_names\"].str.strip()  # Strip extra spaces\n",
    "\n",
    "    # Step 3: Define a function to find candidates for merging using fuzzy matching\n",
    "    def find_merge_candidates(df, threshold=85):\n",
    "        \"\"\"\n",
    "        Finds names that are candidates for merging based on fuzzy matching.\n",
    "        \"\"\"\n",
    "        names = df[\"split_names\"].unique()\n",
    "        merge_candidates = []\n",
    "\n",
    "        for name in names:\n",
    "            # Get a list of all potential matches that exceed the threshold\n",
    "            matches = process.extract(name, names, scorer=fuzz.ratio, limit=None)\n",
    "            for match_name, score, _ in matches:  # Here we unpack the third value but ignore it\n",
    "                if name != match_name and score >= threshold:\n",
    "                    original_name = df[df[\"split_names\"] == name][\"original_name\"].values[0]\n",
    "                    potential_merge_original = df[df[\"split_names\"] == match_name][\"original_name\"].values[0]\n",
    "                    merge_candidates.append((original_name, name, potential_merge_original, match_name, score))\n",
    "\n",
    "        return pd.DataFrame(\n",
    "            merge_candidates,\n",
    "            columns=[\n",
    "                \"Original Name\",\n",
    "                \"Processed Name\",\n",
    "                \"Potential Merge Original\",\n",
    "                \"Potential Merge Processed\",\n",
    "                \"Similarity Score\",\n",
    "            ],\n",
    "        )\n",
    "\n",
    "    # Step 4: Get the merge candidates DataFrame\n",
    "    merge_candidates_df = find_merge_candidates(df_exploded, threshold)\n",
    "\n",
    "    # Step 5: Sort the results for better readability\n",
    "    merge_candidates_df.sort_values(by=\"Similarity Score\", ascending=False, inplace=True)\n",
    "\n",
    "    return merge_candidates_df"
   ]
  },
  {
   "cell_type": "code",
   "execution_count": null,
   "metadata": {},
   "outputs": [],
   "source": [
    "merge_candidates = preprocess_and_find_merge_candidates(df, \"director\", threshold=95)"
   ]
  },
  {
   "cell_type": "code",
   "execution_count": null,
   "metadata": {},
   "outputs": [],
   "source": [
    "merge_candidates.loc[:, [\"Original Name\", \"Potential Merge Original\", \"Similarity Score\"]].iloc[::2]"
   ]
  },
  {
   "cell_type": "code",
   "execution_count": null,
   "metadata": {},
   "outputs": [],
   "source": [
    "df.loc[(df[\"director\"] == \"Mrighdeep Singh Lamba\") | (df[\"director\"] == \"Mrigdeep Singh Lamba\")]"
   ]
  },
  {
   "cell_type": "code",
   "execution_count": null,
   "metadata": {},
   "outputs": [],
   "source": [
    "from collections import defaultdict\n",
    "\n",
    "\n",
    "def clean_director_name(name: str):\n",
    "    name = name.lower().replace(\" \", \"\").replace(\"-\", \"\")\n",
    "    return re.sub(r\"\\.\", \"\", name)\n",
    "\n",
    "\n",
    "def create_name_map(df: pd.DataFrame):\n",
    "    name_map = defaultdict(set)\n",
    "\n",
    "    for i, row in df.iterrows():\n",
    "        director_list = [name.strip() for name in row[\"director\"].split(\",\")]\n",
    "\n",
    "        for director in director_list:\n",
    "            cleaned_name = clean_director_name(director)\n",
    "            name_map[cleaned_name].add(director)\n",
    "\n",
    "    return name_map\n",
    "\n",
    "\n",
    "director_name_map = create_name_map(df)\n",
    "filtered_name_map = {key: value for key, value in director_name_map.items() if len(value) > 1}\n",
    "\n",
    "\n",
    "print(\"Directors with more than 1 value:\")\n",
    "filtered_name_map"
   ]
  },
  {
   "cell_type": "code",
   "execution_count": 16,
   "metadata": {},
   "outputs": [],
   "source": [
    "import numpy as np\n",
    "\n",
    "df.loc[df[\"director\"] == \"3 directors\" \"Director\"] = np.nan\n",
    "df.loc[:, \"director\"] = df.loc[:, \"director\"].replace(\"Unknown\", np.nan)"
   ]
  },
  {
   "cell_type": "markdown",
   "metadata": {},
   "source": [
    "# Preprocessing (NEEDS WORK!)\n"
   ]
  },
  {
   "cell_type": "code",
   "execution_count": 17,
   "metadata": {},
   "outputs": [],
   "source": [
    "%autoreload 2\n",
    "from src.dataset import lemmatize_tokens, extract_noun_phrases, word_tokenize\n",
    "import string\n",
    "\n",
    "\n",
    "def preprocess_sentence(sentence: str) -> str:\n",
    "    \"\"\"Preprocess the sentence by tokenizing, lemmatizing, and joining noun phrases.\"\"\"\n",
    "    cleaned_sentence = sentence.translate(str.maketrans(\"\", \"\", string.punctuation)).lower()\n",
    "    tokens = word_tokenize(cleaned_sentence)\n",
    "    noun_phrases = extract_noun_phrases(sentence)\n",
    "    noun_phrases_joined = [\"\".join(phrase.split()) for phrase in noun_phrases]\n",
    "    lemmatized_tokens = lemmatize_tokens(tokens)\n",
    "    combined_tokens = list(set(lemmatized_tokens + noun_phrases_joined))\n",
    "    return \" \".join(combined_tokens)\n",
    "\n",
    "\n",
    "df[\"title\"] = df[\"title\"].apply(preprocess_sentence)\n",
    "df[\"description\"] = df[\"description\"].apply(preprocess_sentence)"
   ]
  },
  {
   "cell_type": "markdown",
   "metadata": {},
   "source": [
    "# Feature Engineering\n"
   ]
  },
  {
   "cell_type": "code",
   "execution_count": 18,
   "metadata": {},
   "outputs": [],
   "source": [
    "df[\"region\"] = df[\"from\"].map(\n",
    "    {\n",
    "        \"American\": \"Western\",\n",
    "        \"British\": \"Western\",\n",
    "        \"Canadian\": \"Western\",\n",
    "        \"Australian\": \"Western\",\n",
    "        \"Bollywood\": \"South Asian\",\n",
    "        \"Telugu\": \"South Asian\",\n",
    "        \"Tamil\": \"South Asian\",\n",
    "        \"Malayalam\": \"South Asian\",\n",
    "        \"Bengali\": \"South Asian\",\n",
    "        \"Kannada\": \"South Asian\",\n",
    "        \"Marathi\": \"South Asian\",\n",
    "        \"Punjabi\": \"South Asian\",\n",
    "        \"Assamese\": \"South Asian\",\n",
    "        \"Chinese\": \"East Asian\",\n",
    "        \"Japanese\": \"East Asian\",\n",
    "        \"South_Korean\": \"East Asian\",\n",
    "        \"Hong Kong\": \"East Asian\",\n",
    "        \"Filipino\": \"Southeast Asian\",\n",
    "        \"Bangladeshi\": \"South Asian\",\n",
    "        \"Russian\": \"European\",\n",
    "        \"Turkish\": \"Middle Eastern\",\n",
    "        \"Egyptian\": \"Middle Eastern\",\n",
    "        \"Malaysian\": \"Southeast Asian\",\n",
    "    }\n",
    ")"
   ]
  },
  {
   "cell_type": "markdown",
   "metadata": {},
   "source": [
    "# Feature Selection\n"
   ]
  },
  {
   "cell_type": "code",
   "execution_count": 19,
   "metadata": {},
   "outputs": [],
   "source": [
    "%autoreload 2\n",
    "from src.logratioanalysis import LogRatioAnalysis\n",
    "\n",
    "logratio_title = LogRatioAnalysis(df, \"title\", \"genre\")\n",
    "logratio_description = LogRatioAnalysis(df, \"description\", \"genre\")"
   ]
  },
  {
   "cell_type": "code",
   "execution_count": null,
   "metadata": {},
   "outputs": [],
   "source": [
    "%autoreload 2\n",
    "from src.logratioanalysis import plot_scree_subplots_for_genres\n",
    "\n",
    "genres = df.genre.unique()\n",
    "plot_scree_subplots_for_genres(logratio_title)"
   ]
  },
  {
   "cell_type": "code",
   "execution_count": null,
   "metadata": {},
   "outputs": [],
   "source": [
    "%autoreload 2\n",
    "plot_scree_subplots_for_genres(logratio_description)"
   ]
  },
  {
   "cell_type": "code",
   "execution_count": 22,
   "metadata": {},
   "outputs": [],
   "source": [
    "%autoreload 2\n",
    "\n",
    "description_tokens = logratio_description.feature_selection(25000)\n",
    "title_tokens = logratio_title.feature_selection(1000)"
   ]
  },
  {
   "cell_type": "code",
   "execution_count": 23,
   "metadata": {},
   "outputs": [],
   "source": [
    "import nltk\n",
    "\n",
    "\n",
    "def select_tokens(text, selected_tokens, tokenizer=nltk.word_tokenize):\n",
    "    \"\"\"\n",
    "    Cleans a single document by keeping only the tokens present in the selected_tokens set.\n",
    "\n",
    "    Parameters:\n",
    "    text (str): The text document to clean.\n",
    "    selected_tokens (set or list): The set or list of tokens to retain in the text.\n",
    "    tokenizer (function): A function to tokenize the text (defaults to nltk.word_tokenize).\n",
    "\n",
    "    Returns:\n",
    "    str: The cleaned text with only the selected tokens.\n",
    "    \"\"\"\n",
    "\n",
    "    if isinstance(text, str):\n",
    "        tokens = tokenizer(text)\n",
    "        filtered_tokens = [token for token in tokens if token in selected_tokens]\n",
    "        return \" \".join(filtered_tokens)\n",
    "    return text"
   ]
  },
  {
   "cell_type": "code",
   "execution_count": 24,
   "metadata": {},
   "outputs": [],
   "source": [
    "# Didn't Work :')\n",
    "# df['cleaned_description'] = df[\"description\"].apply(select_tokens, selected_tokens=description_tokens)"
   ]
  },
  {
   "cell_type": "markdown",
   "metadata": {},
   "source": [
    "# Modelling\n"
   ]
  },
  {
   "cell_type": "code",
   "execution_count": 28,
   "metadata": {},
   "outputs": [],
   "source": [
    "%autoreload 2\n",
    "from sklearn.preprocessing import LabelEncoder\n",
    "\n",
    "label_encoder = LabelEncoder()\n",
    "df[\"genre\"] = label_encoder.fit_transform(df[\"genre\"])\n",
    "df[\"director\"] = df[\"director\"].fillna(\"\")\n",
    "\n",
    "X_train = df.drop(\"genre\", axis=1)\n",
    "y_train = df[\"genre\"]"
   ]
  },
  {
   "cell_type": "code",
   "execution_count": null,
   "metadata": {},
   "outputs": [],
   "source": [
    "%autoreload 2\n",
    "from mlxtend.feature_selection import ColumnSelector\n",
    "from sklearn.decomposition import TruncatedSVD\n",
    "from sklearn.feature_extraction.text import TfidfVectorizer\n",
    "from sklearn.pipeline import make_pipeline, make_union\n",
    "from sklearn.preprocessing import OneHotEncoder, StandardScaler\n",
    "from sklearn.ensemble import HistGradientBoostingClassifier\n",
    "from skrub import SelectCols, SimilarityEncoder\n",
    "\n",
    "text_pipeline = make_union(\n",
    "    make_pipeline(\n",
    "        ColumnSelector(\"title\", drop_axis=True),\n",
    "        TfidfVectorizer(ngram_range=(2, 4)),\n",
    "        StandardScaler(with_mean=False),\n",
    "        TruncatedSVD(),\n",
    "    ),\n",
    "    make_pipeline(\n",
    "        ColumnSelector(\"description\", drop_axis=True),\n",
    "        TfidfVectorizer(),\n",
    "        StandardScaler(with_mean=False),\n",
    "        TruncatedSVD(),\n",
    "    ),\n",
    "    make_pipeline(SelectCols(\"region\"), SimilarityEncoder()),\n",
    "    make_pipeline(SelectCols(\"from\"), OneHotEncoder(sparse_output=False)),\n",
    "    make_pipeline(\n",
    "        ColumnSelector(\"director\", drop_axis=True),\n",
    "        TfidfVectorizer(ngram_range=(1, 2)),  #\n",
    "        StandardScaler(with_mean=False),\n",
    "        TruncatedSVD(),\n",
    "    ),\n",
    ")\n",
    "\n",
    "pipeline = make_pipeline(text_pipeline, HistGradientBoostingClassifier())\n",
    "pipeline"
   ]
  },
  {
   "cell_type": "code",
   "execution_count": null,
   "metadata": {},
   "outputs": [],
   "source": [
    "from scipy.stats import loguniform, randint\n",
    "from sklearn.model_selection import RandomizedSearchCV\n",
    "\n",
    "\n",
    "# Update param_distributions to match HistGradientBoostingClassifier\n",
    "param_distributions = {\n",
    "    \"histgradientboostingclassifier__learning_rate\": loguniform(0.03, 0.07),\n",
    "    \"histgradientboostingclassifier__max_iter\": randint(250, 350),\n",
    "    \"histgradientboostingclassifier__max_depth\": randint(4, 6),\n",
    "    \"histgradientboostingclassifier__min_samples_leaf\": randint(85, 95),\n",
    "    \"histgradientboostingclassifier__max_leaf_nodes\": randint(120, 140),\n",
    "    \"histgradientboostingclassifier__l2_regularization\": loguniform(0.0005, 0.003),\n",
    "    \"featureunion__pipeline-1__truncatedsvd__n_components\": randint(200, 400),\n",
    "    \"featureunion__pipeline-2__truncatedsvd__n_components\": randint(800, 2000),\n",
    "    \"featureunion__pipeline-5__truncatedsvd__n_components\": randint(200, 400),\n",
    "}\n",
    "\n",
    "# Set up the RandomizedSearchCV with the updated parameters\n",
    "random_search = RandomizedSearchCV(\n",
    "    pipeline,\n",
    "    param_distributions=param_distributions,\n",
    "    n_iter=10,\n",
    "    cv=3,\n",
    "    scoring=\"accuracy\",\n",
    "    random_state=42,\n",
    "    verbose=4,\n",
    "    error_score=\"raise\",\n",
    ")\n",
    "\n",
    "# Fit the RandomizedSearchCV with the updated pipeline\n",
    "random_search.fit(X_train, y_train)\n",
    "\n",
    "# Get the best parameters, score, and model\n",
    "best_params = random_search.best_params_\n",
    "best_score = random_search.best_score_\n",
    "best_model = random_search.best_estimator_\n",
    "\n",
    "print(\"\\n Best Parameters:\", best_params)\n",
    "print(\"\\n Best Score:\", best_score)"
   ]
  }
 ],
 "metadata": {
  "kernelspec": {
   "display_name": "Python 3",
   "language": "python",
   "name": "python3"
  },
  "language_info": {
   "codemirror_mode": {
    "name": "ipython",
    "version": 3
   },
   "file_extension": ".py",
   "mimetype": "text/x-python",
   "name": "python",
   "nbconvert_exporter": "python",
   "pygments_lexer": "ipython3",
   "version": "3.12.0"
  }
 },
 "nbformat": 4,
 "nbformat_minor": 2
}
